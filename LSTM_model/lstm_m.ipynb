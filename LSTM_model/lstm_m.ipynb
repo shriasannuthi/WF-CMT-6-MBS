{
 "cells": [
  {
   "cell_type": "code",
   "execution_count": null,
   "metadata": {},
   "outputs": [],
   "source": [
    "import numpy as np\n",
    "from keras.models import Sequential\n",
    "from keras.layers import LSTM\n",
    "from keras.layers import Dense, Dropout\n",
    "import pandas as pd\n",
    "from matplotlib import pyplot as plt\n",
    "from sklearn.preprocessing import StandardScaler\n",
    "import seaborn as sns\n",
    "import tensorflow as tf"
   ]
  },
  {
   "cell_type": "code",
   "execution_count": null,
   "metadata": {},
   "outputs": [],
   "source": [
    "data_f = pd.read_csv(\"C:\\RUTU\\WF_project\\WF-CMT-6-MBS\\Combined_Dataset\\Dataset.csv\")\n",
    "print(data_f.head())"
   ]
  },
  {
   "cell_type": "code",
   "execution_count": null,
   "metadata": {},
   "outputs": [],
   "source": []
  },
  {
   "cell_type": "code",
   "execution_count": null,
   "metadata": {},
   "outputs": [],
   "source": [
    "cols=data_f.columns\n",
    "print(len(cols))\n",
    "print(cols)"
   ]
  },
  {
   "cell_type": "code",
   "execution_count": 44,
   "metadata": {},
   "outputs": [],
   "source": [
    "data_f.drop(['EMI','Interest_Component','PREPAYMENT_AMT','Previous_UPB','Remaining MFM'], axis = 1, inplace = True)"
   ]
  },
  {
   "cell_type": "code",
   "execution_count": 45,
   "metadata": {},
   "outputs": [
    {
     "name": "stdout",
     "output_type": "stream",
     "text": [
      "32\n",
      "Index(['Loan Identifier', 'Monthly Reporting Period', 'Channel',\n",
      "       'Original Interest Rate', 'Current Interest Rate', 'Original UPB',\n",
      "       'Current Actual UPB', 'Original Loan Term', 'Origination Date',\n",
      "       'First Payment Date', 'Remaining Months To Maturity',\n",
      "       'Original Loan to Value Ratio (LTV)', 'Debt-To-Income (DTI)',\n",
      "       'Borrower Credit Score at Origination',\n",
      "       'First Time Home Buyer Indicator', 'Loan Purpose', 'Property Type',\n",
      "       'Number of Units', 'Occupancy Status',\n",
      "       'Metropolitan Statistical Area (MSA)', 'Zip Code Short',\n",
      "       'Interest Only Loan Indicator', 'Current Loan Delinquency Status',\n",
      "       'Modification Flag', 'Zero Balance Code', 'Special Eligibility Program',\n",
      "       'Property Valuation Method', 'High Balance Loan Indicator',\n",
      "       'Unemployment_rate', 'Divorce_rate', 'Inflation_rate', 'UPB_diff'],\n",
      "      dtype='object')\n"
     ]
    }
   ],
   "source": [
    "cols=data_f.columns\n",
    "print(len(cols))\n",
    "print(cols)"
   ]
  },
  {
   "cell_type": "code",
   "execution_count": null,
   "metadata": {},
   "outputs": [],
   "source": []
  },
  {
   "cell_type": "code",
   "execution_count": 77,
   "metadata": {},
   "outputs": [],
   "source": [
    "from numpy import array\n",
    "\n",
    "def split_sequences(sequences, n_steps): \n",
    " \n",
    "    print(type(sequences))   \n",
    "    X,y = list(), list()\n",
    "    for i in range(len(sequences)):\n",
    "    # find the end of this pattern\n",
    "        end_ix = i + n_steps\n",
    "        # check if we are beyond the dataset\n",
    "        if end_ix > len(sequences):\n",
    "            break\n",
    "    # gather input and output parts of the pattern\n",
    "    seq_x, seq_y = sequences['Loan Identifier'], sequences['Current Actual UPB']\n",
    "    print(seq_y)\n",
    "    print(seq_x)    \n",
    "    \n",
    "    X.append(seq_x)    \n",
    "    y.append(seq_y)\n",
    "    return array(X), array(y)"
   ]
  },
  {
   "cell_type": "code",
   "execution_count": 58,
   "metadata": {},
   "outputs": [
    {
     "name": "stdout",
     "output_type": "stream",
     "text": [
      "0           75000.00\n",
      "1           75000.00\n",
      "2           75000.00\n",
      "3           75000.00\n",
      "4           75000.00\n",
      "             ...    \n",
      "1256463    500744.85\n",
      "1256464    499853.61\n",
      "1256465    498960.10\n",
      "1256466    498064.31\n",
      "1256467         0.00\n",
      "Name: Current Actual UPB, Length: 1256468, dtype: float64\n"
     ]
    }
   ],
   "source": [
    "print(data_f['Current Actual UPB'])"
   ]
  },
  {
   "cell_type": "code",
   "execution_count": 78,
   "metadata": {},
   "outputs": [
    {
     "name": "stdout",
     "output_type": "stream",
     "text": [
      "<class 'pandas.core.frame.DataFrame'>\n",
      "0           75000.00\n",
      "1           75000.00\n",
      "2           75000.00\n",
      "3           75000.00\n",
      "4           75000.00\n",
      "             ...    \n",
      "1256463    500744.85\n",
      "1256464    499853.61\n",
      "1256465    498960.10\n",
      "1256466    498064.31\n",
      "1256467         0.00\n",
      "Name: Current Actual UPB, Length: 1256468, dtype: float64\n",
      "0          100007365142\n",
      "1          100007365142\n",
      "2          100007365142\n",
      "3          100007365142\n",
      "4          100007365142\n",
      "               ...     \n",
      "1256463       105675700\n",
      "1256464       105675700\n",
      "1256465       105675700\n",
      "1256466       105675700\n",
      "1256467       105675700\n",
      "Name: Loan Identifier, Length: 1256468, dtype: int64\n"
     ]
    }
   ],
   "source": [
    "X,Y= split_sequences(data_f, 3)"
   ]
  },
  {
   "cell_type": "code",
   "execution_count": null,
   "metadata": {},
   "outputs": [],
   "source": [
    "time_steps = 3\n",
    "n_features = X.shape[2]"
   ]
  },
  {
   "cell_type": "code",
   "execution_count": null,
   "metadata": {},
   "outputs": [],
   "source": [
    "hiddensizes = [15,20, 30, 40]\n",
    "dropouts = [0,0.8,0.15,0.2]\n",
    "batch_sizes = [32,64,128]\n",
    "optimizers = ['rmsprop', 'adam']\n",
    "for dropout in dropouts:\n",
    "    for batch_size in batch_sizes:\n",
    "        for optimizer in optimizers:\n",
    "            for hidden in hiddensizes:\n",
    "                print('dropout:' + str(dropout) + '\\t' + 'batchsize:' + str(batch_size) + '\\t' + 'optimzer:' + str(optimizer)  + '\\t' + 'Hidden_U:' + str(hidden))\n",
    "\n",
    "                lstm_model = Sequential()\n",
    "                #hiddensize1 = X.shape[2]\n",
    "\n",
    "                lstm_model.add(LSTM(units = hidden, dropout=dropout, return_sequences = True, input_shape = (time_steps, n_features)))\n",
    "                lstm_model.add(LSTM(units = hidden, dropout=dropout, return_sequences = True))\n",
    "                #lstm_model.add(LSTM(units = hiddensize1, dropout=0.2, return_sequences = True))\n",
    "\n",
    "                lstm_model.add(Dense(units = 4, activation='softmax'))\n",
    "                weights = np.array([0.005,0.24,0.75,0.005])\n",
    "                #weights = np.ones((4,))*1.0\n",
    "                lstm_model.compile(optimizer = optimizer, loss = 'mse', metrics = ['categorical_accuracy'])\n",
    "                lstm_model.fit(X, Y*1.0,batch_size=batch_size, epochs=4, verbose=1, validation_data=(Xtest, Ytest*1.0))"
   ]
  }
 ],
 "metadata": {
  "kernelspec": {
   "display_name": "Python 3",
   "language": "python",
   "name": "python3"
  },
  "language_info": {
   "codemirror_mode": {
    "name": "ipython",
    "version": 3
   },
   "file_extension": ".py",
   "mimetype": "text/x-python",
   "name": "python",
   "nbconvert_exporter": "python",
   "pygments_lexer": "ipython3",
   "version": "3.9.13"
  },
  "orig_nbformat": 4
 },
 "nbformat": 4,
 "nbformat_minor": 2
}
