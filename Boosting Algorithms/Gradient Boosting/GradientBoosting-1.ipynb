{
 "cells": [
  {
   "cell_type": "code",
   "execution_count": 21,
   "metadata": {},
   "outputs": [],
   "source": [
    "import numpy as np\n",
    "import pandas as pd"
   ]
  },
  {
   "cell_type": "code",
   "execution_count": 22,
   "metadata": {},
   "outputs": [
    {
     "data": {
      "text/html": [
       "<div>\n",
       "<style scoped>\n",
       "    .dataframe tbody tr th:only-of-type {\n",
       "        vertical-align: middle;\n",
       "    }\n",
       "\n",
       "    .dataframe tbody tr th {\n",
       "        vertical-align: top;\n",
       "    }\n",
       "\n",
       "    .dataframe thead th {\n",
       "        text-align: right;\n",
       "    }\n",
       "</style>\n",
       "<table border=\"1\" class=\"dataframe\">\n",
       "  <thead>\n",
       "    <tr style=\"text-align: right;\">\n",
       "      <th></th>\n",
       "      <th>Loan Identifier</th>\n",
       "      <th>Monthly Reporting Period</th>\n",
       "      <th>Channel</th>\n",
       "      <th>Original Interest Rate</th>\n",
       "      <th>Current Interest Rate</th>\n",
       "      <th>Original UPB</th>\n",
       "      <th>Current Actual UPB</th>\n",
       "      <th>Original Loan Term</th>\n",
       "      <th>Origination Date</th>\n",
       "      <th>First Payment Date</th>\n",
       "      <th>...</th>\n",
       "      <th>High Balance Loan Indicator</th>\n",
       "      <th>Unemployment_rate</th>\n",
       "      <th>Divorce_rate</th>\n",
       "      <th>Inflation_rate</th>\n",
       "      <th>EMI</th>\n",
       "      <th>UPB_diff</th>\n",
       "      <th>Interest_Component</th>\n",
       "      <th>PREPAYMENT_AMT</th>\n",
       "      <th>Previous_UPB</th>\n",
       "      <th>Remaining MFM</th>\n",
       "    </tr>\n",
       "  </thead>\n",
       "  <tbody>\n",
       "    <tr>\n",
       "      <th>0</th>\n",
       "      <td>100007365142</td>\n",
       "      <td>12000</td>\n",
       "      <td>2</td>\n",
       "      <td>8.000</td>\n",
       "      <td>8.000</td>\n",
       "      <td>75000.0</td>\n",
       "      <td>75000.00</td>\n",
       "      <td>360</td>\n",
       "      <td>121999</td>\n",
       "      <td>22000</td>\n",
       "      <td>...</td>\n",
       "      <td>0</td>\n",
       "      <td>4.0</td>\n",
       "      <td>4.0</td>\n",
       "      <td>2.7</td>\n",
       "      <td>550.323430</td>\n",
       "      <td>0.00</td>\n",
       "      <td>500.00</td>\n",
       "      <td>0.000000</td>\n",
       "      <td>75000.00</td>\n",
       "      <td>359</td>\n",
       "    </tr>\n",
       "    <tr>\n",
       "      <th>1</th>\n",
       "      <td>100007365142</td>\n",
       "      <td>22000</td>\n",
       "      <td>2</td>\n",
       "      <td>8.000</td>\n",
       "      <td>8.000</td>\n",
       "      <td>75000.0</td>\n",
       "      <td>75000.00</td>\n",
       "      <td>360</td>\n",
       "      <td>121999</td>\n",
       "      <td>22000</td>\n",
       "      <td>...</td>\n",
       "      <td>0</td>\n",
       "      <td>4.0</td>\n",
       "      <td>4.0</td>\n",
       "      <td>3.2</td>\n",
       "      <td>550.323430</td>\n",
       "      <td>0.00</td>\n",
       "      <td>500.00</td>\n",
       "      <td>0.000000</td>\n",
       "      <td>75000.00</td>\n",
       "      <td>358</td>\n",
       "    </tr>\n",
       "    <tr>\n",
       "      <th>2</th>\n",
       "      <td>100007365142</td>\n",
       "      <td>32000</td>\n",
       "      <td>2</td>\n",
       "      <td>8.000</td>\n",
       "      <td>8.000</td>\n",
       "      <td>75000.0</td>\n",
       "      <td>75000.00</td>\n",
       "      <td>360</td>\n",
       "      <td>121999</td>\n",
       "      <td>22000</td>\n",
       "      <td>...</td>\n",
       "      <td>0</td>\n",
       "      <td>4.0</td>\n",
       "      <td>4.0</td>\n",
       "      <td>3.8</td>\n",
       "      <td>550.323430</td>\n",
       "      <td>0.00</td>\n",
       "      <td>500.00</td>\n",
       "      <td>0.000000</td>\n",
       "      <td>75000.00</td>\n",
       "      <td>357</td>\n",
       "    </tr>\n",
       "    <tr>\n",
       "      <th>3</th>\n",
       "      <td>100007365142</td>\n",
       "      <td>42000</td>\n",
       "      <td>2</td>\n",
       "      <td>8.000</td>\n",
       "      <td>8.000</td>\n",
       "      <td>75000.0</td>\n",
       "      <td>75000.00</td>\n",
       "      <td>360</td>\n",
       "      <td>121999</td>\n",
       "      <td>22000</td>\n",
       "      <td>...</td>\n",
       "      <td>0</td>\n",
       "      <td>4.0</td>\n",
       "      <td>4.0</td>\n",
       "      <td>3.1</td>\n",
       "      <td>550.323430</td>\n",
       "      <td>0.00</td>\n",
       "      <td>500.00</td>\n",
       "      <td>0.000000</td>\n",
       "      <td>75000.00</td>\n",
       "      <td>356</td>\n",
       "    </tr>\n",
       "    <tr>\n",
       "      <th>4</th>\n",
       "      <td>100007365142</td>\n",
       "      <td>52000</td>\n",
       "      <td>2</td>\n",
       "      <td>8.000</td>\n",
       "      <td>8.000</td>\n",
       "      <td>75000.0</td>\n",
       "      <td>75000.00</td>\n",
       "      <td>360</td>\n",
       "      <td>121999</td>\n",
       "      <td>22000</td>\n",
       "      <td>...</td>\n",
       "      <td>0</td>\n",
       "      <td>4.0</td>\n",
       "      <td>4.0</td>\n",
       "      <td>3.2</td>\n",
       "      <td>550.323430</td>\n",
       "      <td>0.00</td>\n",
       "      <td>500.00</td>\n",
       "      <td>0.000000</td>\n",
       "      <td>75000.00</td>\n",
       "      <td>355</td>\n",
       "    </tr>\n",
       "    <tr>\n",
       "      <th>...</th>\n",
       "      <td>...</td>\n",
       "      <td>...</td>\n",
       "      <td>...</td>\n",
       "      <td>...</td>\n",
       "      <td>...</td>\n",
       "      <td>...</td>\n",
       "      <td>...</td>\n",
       "      <td>...</td>\n",
       "      <td>...</td>\n",
       "      <td>...</td>\n",
       "      <td>...</td>\n",
       "      <td>...</td>\n",
       "      <td>...</td>\n",
       "      <td>...</td>\n",
       "      <td>...</td>\n",
       "      <td>...</td>\n",
       "      <td>...</td>\n",
       "      <td>...</td>\n",
       "      <td>...</td>\n",
       "      <td>...</td>\n",
       "      <td>...</td>\n",
       "    </tr>\n",
       "    <tr>\n",
       "      <th>1256463</th>\n",
       "      <td>105675700</td>\n",
       "      <td>112021</td>\n",
       "      <td>2</td>\n",
       "      <td>3.062</td>\n",
       "      <td>3.062</td>\n",
       "      <td>510000.0</td>\n",
       "      <td>500744.85</td>\n",
       "      <td>360</td>\n",
       "      <td>112020</td>\n",
       "      <td>12021</td>\n",
       "      <td>...</td>\n",
       "      <td>0</td>\n",
       "      <td>5.3</td>\n",
       "      <td>2.5</td>\n",
       "      <td>6.8</td>\n",
       "      <td>2167.271522</td>\n",
       "      <td>888.97</td>\n",
       "      <td>1301.35</td>\n",
       "      <td>23.048478</td>\n",
       "      <td>501633.82</td>\n",
       "      <td>348</td>\n",
       "    </tr>\n",
       "    <tr>\n",
       "      <th>1256464</th>\n",
       "      <td>105675700</td>\n",
       "      <td>122021</td>\n",
       "      <td>2</td>\n",
       "      <td>3.062</td>\n",
       "      <td>3.062</td>\n",
       "      <td>510000.0</td>\n",
       "      <td>499853.61</td>\n",
       "      <td>360</td>\n",
       "      <td>112020</td>\n",
       "      <td>12021</td>\n",
       "      <td>...</td>\n",
       "      <td>0</td>\n",
       "      <td>5.3</td>\n",
       "      <td>2.5</td>\n",
       "      <td>7.0</td>\n",
       "      <td>2167.271522</td>\n",
       "      <td>891.24</td>\n",
       "      <td>1301.35</td>\n",
       "      <td>25.318478</td>\n",
       "      <td>500744.85</td>\n",
       "      <td>347</td>\n",
       "    </tr>\n",
       "    <tr>\n",
       "      <th>1256465</th>\n",
       "      <td>105675700</td>\n",
       "      <td>12022</td>\n",
       "      <td>2</td>\n",
       "      <td>3.062</td>\n",
       "      <td>3.062</td>\n",
       "      <td>510000.0</td>\n",
       "      <td>498960.10</td>\n",
       "      <td>360</td>\n",
       "      <td>112020</td>\n",
       "      <td>12021</td>\n",
       "      <td>...</td>\n",
       "      <td>0</td>\n",
       "      <td>3.6</td>\n",
       "      <td>2.3</td>\n",
       "      <td>7.5</td>\n",
       "      <td>2167.271522</td>\n",
       "      <td>893.51</td>\n",
       "      <td>1301.35</td>\n",
       "      <td>27.588478</td>\n",
       "      <td>499853.61</td>\n",
       "      <td>346</td>\n",
       "    </tr>\n",
       "    <tr>\n",
       "      <th>1256466</th>\n",
       "      <td>105675700</td>\n",
       "      <td>22022</td>\n",
       "      <td>2</td>\n",
       "      <td>3.062</td>\n",
       "      <td>3.062</td>\n",
       "      <td>510000.0</td>\n",
       "      <td>498064.31</td>\n",
       "      <td>360</td>\n",
       "      <td>112020</td>\n",
       "      <td>12021</td>\n",
       "      <td>...</td>\n",
       "      <td>0</td>\n",
       "      <td>3.6</td>\n",
       "      <td>2.3</td>\n",
       "      <td>7.9</td>\n",
       "      <td>2167.271522</td>\n",
       "      <td>895.79</td>\n",
       "      <td>1301.35</td>\n",
       "      <td>29.868478</td>\n",
       "      <td>498960.10</td>\n",
       "      <td>345</td>\n",
       "    </tr>\n",
       "    <tr>\n",
       "      <th>1256467</th>\n",
       "      <td>105675700</td>\n",
       "      <td>32022</td>\n",
       "      <td>2</td>\n",
       "      <td>3.062</td>\n",
       "      <td>0.000</td>\n",
       "      <td>510000.0</td>\n",
       "      <td>0.00</td>\n",
       "      <td>360</td>\n",
       "      <td>112020</td>\n",
       "      <td>12021</td>\n",
       "      <td>...</td>\n",
       "      <td>0</td>\n",
       "      <td>3.6</td>\n",
       "      <td>2.3</td>\n",
       "      <td>8.5</td>\n",
       "      <td>2167.271522</td>\n",
       "      <td>498064.31</td>\n",
       "      <td>1301.35</td>\n",
       "      <td>497198.388478</td>\n",
       "      <td>498064.31</td>\n",
       "      <td>344</td>\n",
       "    </tr>\n",
       "  </tbody>\n",
       "</table>\n",
       "<p>1256468 rows × 37 columns</p>\n",
       "</div>"
      ],
      "text/plain": [
       "         Loan Identifier  Monthly Reporting Period  Channel  \\\n",
       "0           100007365142                     12000        2   \n",
       "1           100007365142                     22000        2   \n",
       "2           100007365142                     32000        2   \n",
       "3           100007365142                     42000        2   \n",
       "4           100007365142                     52000        2   \n",
       "...                  ...                       ...      ...   \n",
       "1256463        105675700                    112021        2   \n",
       "1256464        105675700                    122021        2   \n",
       "1256465        105675700                     12022        2   \n",
       "1256466        105675700                     22022        2   \n",
       "1256467        105675700                     32022        2   \n",
       "\n",
       "         Original Interest Rate  Current Interest Rate  Original UPB  \\\n",
       "0                         8.000                  8.000       75000.0   \n",
       "1                         8.000                  8.000       75000.0   \n",
       "2                         8.000                  8.000       75000.0   \n",
       "3                         8.000                  8.000       75000.0   \n",
       "4                         8.000                  8.000       75000.0   \n",
       "...                         ...                    ...           ...   \n",
       "1256463                   3.062                  3.062      510000.0   \n",
       "1256464                   3.062                  3.062      510000.0   \n",
       "1256465                   3.062                  3.062      510000.0   \n",
       "1256466                   3.062                  3.062      510000.0   \n",
       "1256467                   3.062                  0.000      510000.0   \n",
       "\n",
       "         Current Actual UPB  Original Loan Term  Origination Date  \\\n",
       "0                  75000.00                 360            121999   \n",
       "1                  75000.00                 360            121999   \n",
       "2                  75000.00                 360            121999   \n",
       "3                  75000.00                 360            121999   \n",
       "4                  75000.00                 360            121999   \n",
       "...                     ...                 ...               ...   \n",
       "1256463           500744.85                 360            112020   \n",
       "1256464           499853.61                 360            112020   \n",
       "1256465           498960.10                 360            112020   \n",
       "1256466           498064.31                 360            112020   \n",
       "1256467                0.00                 360            112020   \n",
       "\n",
       "         First Payment Date  ...  High Balance Loan Indicator  \\\n",
       "0                     22000  ...                            0   \n",
       "1                     22000  ...                            0   \n",
       "2                     22000  ...                            0   \n",
       "3                     22000  ...                            0   \n",
       "4                     22000  ...                            0   \n",
       "...                     ...  ...                          ...   \n",
       "1256463               12021  ...                            0   \n",
       "1256464               12021  ...                            0   \n",
       "1256465               12021  ...                            0   \n",
       "1256466               12021  ...                            0   \n",
       "1256467               12021  ...                            0   \n",
       "\n",
       "         Unemployment_rate  Divorce_rate  Inflation_rate          EMI  \\\n",
       "0                      4.0           4.0             2.7   550.323430   \n",
       "1                      4.0           4.0             3.2   550.323430   \n",
       "2                      4.0           4.0             3.8   550.323430   \n",
       "3                      4.0           4.0             3.1   550.323430   \n",
       "4                      4.0           4.0             3.2   550.323430   \n",
       "...                    ...           ...             ...          ...   \n",
       "1256463                5.3           2.5             6.8  2167.271522   \n",
       "1256464                5.3           2.5             7.0  2167.271522   \n",
       "1256465                3.6           2.3             7.5  2167.271522   \n",
       "1256466                3.6           2.3             7.9  2167.271522   \n",
       "1256467                3.6           2.3             8.5  2167.271522   \n",
       "\n",
       "          UPB_diff  Interest_Component  PREPAYMENT_AMT  Previous_UPB  \\\n",
       "0             0.00              500.00        0.000000      75000.00   \n",
       "1             0.00              500.00        0.000000      75000.00   \n",
       "2             0.00              500.00        0.000000      75000.00   \n",
       "3             0.00              500.00        0.000000      75000.00   \n",
       "4             0.00              500.00        0.000000      75000.00   \n",
       "...            ...                 ...             ...           ...   \n",
       "1256463     888.97             1301.35       23.048478     501633.82   \n",
       "1256464     891.24             1301.35       25.318478     500744.85   \n",
       "1256465     893.51             1301.35       27.588478     499853.61   \n",
       "1256466     895.79             1301.35       29.868478     498960.10   \n",
       "1256467  498064.31             1301.35   497198.388478     498064.31   \n",
       "\n",
       "         Remaining MFM  \n",
       "0                  359  \n",
       "1                  358  \n",
       "2                  357  \n",
       "3                  356  \n",
       "4                  355  \n",
       "...                ...  \n",
       "1256463            348  \n",
       "1256464            347  \n",
       "1256465            346  \n",
       "1256466            345  \n",
       "1256467            344  \n",
       "\n",
       "[1256468 rows x 37 columns]"
      ]
     },
     "execution_count": 22,
     "metadata": {},
     "output_type": "execute_result"
    }
   ],
   "source": [
    "data=pd.read_csv('Dataset.csv')\n",
    "data"
   ]
  },
  {
   "cell_type": "code",
   "execution_count": 23,
   "metadata": {},
   "outputs": [],
   "source": [
    "X=data.drop(['Remaining Months To Maturity','Current Actual UPB','EMI',\n",
    "       'UPB_diff', 'Interest_Component', 'PREPAYMENT_AMT'],axis=1)"
   ]
  },
  {
   "cell_type": "code",
   "execution_count": 24,
   "metadata": {},
   "outputs": [],
   "source": [
    "y=data['Current Actual UPB']"
   ]
  },
  {
   "cell_type": "code",
   "execution_count": 25,
   "metadata": {},
   "outputs": [],
   "source": [
    "from sklearn.model_selection import train_test_split\n",
    "X_train,X_test,y_train,y_test=train_test_split(X,y,test_size=0.2)"
   ]
  },
  {
   "cell_type": "code",
   "execution_count": 26,
   "metadata": {},
   "outputs": [
    {
     "data": {
      "text/html": [
       "<style>#sk-container-id-2 {color: black;background-color: white;}#sk-container-id-2 pre{padding: 0;}#sk-container-id-2 div.sk-toggleable {background-color: white;}#sk-container-id-2 label.sk-toggleable__label {cursor: pointer;display: block;width: 100%;margin-bottom: 0;padding: 0.3em;box-sizing: border-box;text-align: center;}#sk-container-id-2 label.sk-toggleable__label-arrow:before {content: \"▸\";float: left;margin-right: 0.25em;color: #696969;}#sk-container-id-2 label.sk-toggleable__label-arrow:hover:before {color: black;}#sk-container-id-2 div.sk-estimator:hover label.sk-toggleable__label-arrow:before {color: black;}#sk-container-id-2 div.sk-toggleable__content {max-height: 0;max-width: 0;overflow: hidden;text-align: left;background-color: #f0f8ff;}#sk-container-id-2 div.sk-toggleable__content pre {margin: 0.2em;color: black;border-radius: 0.25em;background-color: #f0f8ff;}#sk-container-id-2 input.sk-toggleable__control:checked~div.sk-toggleable__content {max-height: 200px;max-width: 100%;overflow: auto;}#sk-container-id-2 input.sk-toggleable__control:checked~label.sk-toggleable__label-arrow:before {content: \"▾\";}#sk-container-id-2 div.sk-estimator input.sk-toggleable__control:checked~label.sk-toggleable__label {background-color: #d4ebff;}#sk-container-id-2 div.sk-label input.sk-toggleable__control:checked~label.sk-toggleable__label {background-color: #d4ebff;}#sk-container-id-2 input.sk-hidden--visually {border: 0;clip: rect(1px 1px 1px 1px);clip: rect(1px, 1px, 1px, 1px);height: 1px;margin: -1px;overflow: hidden;padding: 0;position: absolute;width: 1px;}#sk-container-id-2 div.sk-estimator {font-family: monospace;background-color: #f0f8ff;border: 1px dotted black;border-radius: 0.25em;box-sizing: border-box;margin-bottom: 0.5em;}#sk-container-id-2 div.sk-estimator:hover {background-color: #d4ebff;}#sk-container-id-2 div.sk-parallel-item::after {content: \"\";width: 100%;border-bottom: 1px solid gray;flex-grow: 1;}#sk-container-id-2 div.sk-label:hover label.sk-toggleable__label {background-color: #d4ebff;}#sk-container-id-2 div.sk-serial::before {content: \"\";position: absolute;border-left: 1px solid gray;box-sizing: border-box;top: 0;bottom: 0;left: 50%;z-index: 0;}#sk-container-id-2 div.sk-serial {display: flex;flex-direction: column;align-items: center;background-color: white;padding-right: 0.2em;padding-left: 0.2em;position: relative;}#sk-container-id-2 div.sk-item {position: relative;z-index: 1;}#sk-container-id-2 div.sk-parallel {display: flex;align-items: stretch;justify-content: center;background-color: white;position: relative;}#sk-container-id-2 div.sk-item::before, #sk-container-id-2 div.sk-parallel-item::before {content: \"\";position: absolute;border-left: 1px solid gray;box-sizing: border-box;top: 0;bottom: 0;left: 50%;z-index: -1;}#sk-container-id-2 div.sk-parallel-item {display: flex;flex-direction: column;z-index: 1;position: relative;background-color: white;}#sk-container-id-2 div.sk-parallel-item:first-child::after {align-self: flex-end;width: 50%;}#sk-container-id-2 div.sk-parallel-item:last-child::after {align-self: flex-start;width: 50%;}#sk-container-id-2 div.sk-parallel-item:only-child::after {width: 0;}#sk-container-id-2 div.sk-dashed-wrapped {border: 1px dashed gray;margin: 0 0.4em 0.5em 0.4em;box-sizing: border-box;padding-bottom: 0.4em;background-color: white;}#sk-container-id-2 div.sk-label label {font-family: monospace;font-weight: bold;display: inline-block;line-height: 1.2em;}#sk-container-id-2 div.sk-label-container {text-align: center;}#sk-container-id-2 div.sk-container {/* jupyter's `normalize.less` sets `[hidden] { display: none; }` but bootstrap.min.css set `[hidden] { display: none !important; }` so we also need the `!important` here to be able to override the default hidden behavior on the sphinx rendered scikit-learn.org. See: https://github.com/scikit-learn/scikit-learn/issues/21755 */display: inline-block !important;position: relative;}#sk-container-id-2 div.sk-text-repr-fallback {display: none;}</style><div id=\"sk-container-id-2\" class=\"sk-top-container\"><div class=\"sk-text-repr-fallback\"><pre>GradientBoostingRegressor(learning_rate=0.01, max_features=0.75,\n",
       "                          random_state=42, subsample=0.9, warm_start=True)</pre><b>In a Jupyter environment, please rerun this cell to show the HTML representation or trust the notebook. <br />On GitHub, the HTML representation is unable to render, please try loading this page with nbviewer.org.</b></div><div class=\"sk-container\" hidden><div class=\"sk-item\"><div class=\"sk-estimator sk-toggleable\"><input class=\"sk-toggleable__control sk-hidden--visually\" id=\"sk-estimator-id-2\" type=\"checkbox\" checked><label for=\"sk-estimator-id-2\" class=\"sk-toggleable__label sk-toggleable__label-arrow\">GradientBoostingRegressor</label><div class=\"sk-toggleable__content\"><pre>GradientBoostingRegressor(learning_rate=0.01, max_features=0.75,\n",
       "                          random_state=42, subsample=0.9, warm_start=True)</pre></div></div></div></div></div>"
      ],
      "text/plain": [
       "GradientBoostingRegressor(learning_rate=0.01, max_features=0.75,\n",
       "                          random_state=42, subsample=0.9, warm_start=True)"
      ]
     },
     "execution_count": 26,
     "metadata": {},
     "output_type": "execute_result"
    }
   ],
   "source": [
    "from sklearn.ensemble import GradientBoostingRegressor\n",
    "\n",
    "gbr = GradientBoostingRegressor(subsample = 0.9, \n",
    "                                max_features = 0.75,\n",
    "                                random_state = 42,\n",
    "                                warm_start = True,\n",
    "                                learning_rate= 0.01)\n",
    "\n",
    "gbr.fit(X_train,y_train)\n"
   ]
  },
  {
   "cell_type": "code",
   "execution_count": 27,
   "metadata": {},
   "outputs": [],
   "source": [
    "gbr_y_pred=gbr.predict(X_test)"
   ]
  },
  {
   "cell_type": "code",
   "execution_count": 28,
   "metadata": {},
   "outputs": [
    {
     "data": {
      "text/plain": [
       "array([128940.23730784, 115222.53693432, 326096.65163471, ...,\n",
       "       111367.52040402, 176768.42573154, 218790.57424976])"
      ]
     },
     "execution_count": 28,
     "metadata": {},
     "output_type": "execute_result"
    }
   ],
   "source": [
    "gbr_y_pred"
   ]
  },
  {
   "cell_type": "code",
   "execution_count": 29,
   "metadata": {},
   "outputs": [
    {
     "data": {
      "text/plain": [
       "598697     107705.52\n",
       "553262      83176.97\n",
       "1049142    435427.40\n",
       "833138     241000.00\n",
       "640177      54191.96\n",
       "             ...    \n",
       "1134434    177734.69\n",
       "285317      55892.06\n",
       "405782      77622.09\n",
       "565714     190255.82\n",
       "286399     230880.97\n",
       "Name: Current Actual UPB, Length: 251294, dtype: float64"
      ]
     },
     "execution_count": 29,
     "metadata": {},
     "output_type": "execute_result"
    }
   ],
   "source": [
    "y_test"
   ]
  },
  {
   "cell_type": "code",
   "execution_count": 11,
   "metadata": {},
   "outputs": [
    {
     "name": "stdout",
     "output_type": "stream",
     "text": [
      "[LightGBM] [Warning] Found whitespace in feature_names, replace with underlines\n",
      "[LightGBM] [Warning] Auto-choosing row-wise multi-threading, the overhead of testing was 0.122494 seconds.\n",
      "You can set `force_row_wise=true` to remove the overhead.\n",
      "And if memory is not enough, you can set `force_col_wise=true`.\n",
      "Mean Squared Error: 10454298.061704272\n"
     ]
    }
   ],
   "source": [
    "import lightgbm as lgb\n",
    "from sklearn.metrics import mean_squared_error\n",
    "\n",
    "# Define the LightGBM dataset\n",
    "train_data = lgb.Dataset(X_train, label=y_train)\n",
    "\n",
    "# Set the hyperparameters for the LightGBM model\n",
    "params = {\n",
    "    'boosting_type': 'gbdt',\n",
    "    'objective': 'regression',\n",
    "    'metric': 'mse',\n",
    "    'num_leaves': 31,\n",
    "    'learning_rate': 0.05,\n",
    "    'feature_fraction': 0.9,\n",
    "    'bagging_fraction': 0.8,\n",
    "    'bagging_freq': 5,\n",
    "    'verbose': 0\n",
    "}\n",
    "\n",
    "# Train the LightGBM model\n",
    "model = lgb.train(params, train_data, num_boost_round=100)\n",
    "\n",
    "# Make predictions on the test set\n",
    "y_pred = model.predict(X_test)\n",
    "\n",
    "# Evaluate the model\n",
    "mse = mean_squared_error(y_test, y_pred)\n",
    "print(\"Mean Squared Error:\", mse)"
   ]
  },
  {
   "cell_type": "code",
   "execution_count": 12,
   "metadata": {},
   "outputs": [
    {
     "data": {
      "text/plain": [
       "array([176041.60004188,  15917.88948596, 335004.15329398, ...,\n",
       "        89001.05352498, 220430.78685206,  54281.2646137 ])"
      ]
     },
     "execution_count": 12,
     "metadata": {},
     "output_type": "execute_result"
    }
   ],
   "source": [
    "y_pred"
   ]
  },
  {
   "cell_type": "code",
   "execution_count": 13,
   "metadata": {},
   "outputs": [
    {
     "data": {
      "text/plain": [
       "646999     174311.65\n",
       "639890      14210.38\n",
       "978958     333024.10\n",
       "719201     157225.47\n",
       "286085     132689.44\n",
       "             ...    \n",
       "1136839    213753.53\n",
       "346801     115431.35\n",
       "594680      88523.97\n",
       "347727     220805.96\n",
       "559828      54039.19\n",
       "Name: Current Actual UPB, Length: 251294, dtype: float64"
      ]
     },
     "execution_count": 13,
     "metadata": {},
     "output_type": "execute_result"
    }
   ],
   "source": [
    "y_test"
   ]
  },
  {
   "cell_type": "code",
   "execution_count": 16,
   "metadata": {},
   "outputs": [
    {
     "name": "stderr",
     "output_type": "stream",
     "text": [
      "c:\\Python10\\lib\\site-packages\\sklearn\\base.py:299: UserWarning: Trying to unpickle estimator DecisionTreeRegressor from version 1.2.2 when using version 1.2.1. This might lead to breaking code or invalid results. Use at your own risk. For more info please refer to:\n",
      "https://scikit-learn.org/stable/model_persistence.html#security-maintainability-limitations\n",
      "  warnings.warn(\n",
      "c:\\Python10\\lib\\site-packages\\sklearn\\base.py:299: UserWarning: Trying to unpickle estimator RandomForestRegressor from version 1.2.2 when using version 1.2.1. This might lead to breaking code or invalid results. Use at your own risk. For more info please refer to:\n",
      "https://scikit-learn.org/stable/model_persistence.html#security-maintainability-limitations\n",
      "  warnings.warn(\n"
     ]
    }
   ],
   "source": [
    "import pickle as pkl\n",
    "\n",
    "file = open(\"Random forest.sav\", 'rb')\n",
    "rfr=pkl.load(file)"
   ]
  },
  {
   "cell_type": "code",
   "execution_count": null,
   "metadata": {},
   "outputs": [],
   "source": [
    "from sklearn.ensemble import VotingRegressor\n",
    "\n",
    "voting_reg = VotingRegressor(\n",
    "    estimators=[('svr',best_model_svr),('xgb',XG)])"
   ]
  },
  {
   "cell_type": "code",
   "execution_count": 18,
   "metadata": {},
   "outputs": [],
   "source": [
    "rfr_y_pred=rfr.predict(X_test.drop(['Zero Balance Code'],axis=1))"
   ]
  },
  {
   "cell_type": "code",
   "execution_count": 19,
   "metadata": {},
   "outputs": [
    {
     "data": {
      "text/plain": [
       "array([174247.8122,  14162.9025, 333030.2553, ...,  88692.609 ,\n",
       "       220789.4986,  54040.0222])"
      ]
     },
     "execution_count": 19,
     "metadata": {},
     "output_type": "execute_result"
    }
   ],
   "source": [
    "rfr_y_pred"
   ]
  },
  {
   "cell_type": "code",
   "execution_count": 20,
   "metadata": {},
   "outputs": [
    {
     "data": {
      "text/plain": [
       "646999     174311.65\n",
       "639890      14210.38\n",
       "978958     333024.10\n",
       "719201     157225.47\n",
       "286085     132689.44\n",
       "             ...    \n",
       "1136839    213753.53\n",
       "346801     115431.35\n",
       "594680      88523.97\n",
       "347727     220805.96\n",
       "559828      54039.19\n",
       "Name: Current Actual UPB, Length: 251294, dtype: float64"
      ]
     },
     "execution_count": 20,
     "metadata": {},
     "output_type": "execute_result"
    }
   ],
   "source": [
    "y_test"
   ]
  },
  {
   "cell_type": "code",
   "execution_count": 32,
   "metadata": {},
   "outputs": [
    {
     "data": {
      "text/plain": [
       "24566610611.58351"
      ]
     },
     "execution_count": 32,
     "metadata": {},
     "output_type": "execute_result"
    }
   ],
   "source": [
    "from sklearn.metrics import mean_squared_error\n",
    "mean_squared_error(rfr_y_pred,y_test)"
   ]
  },
  {
   "cell_type": "code",
   "execution_count": 30,
   "metadata": {},
   "outputs": [],
   "source": [
    "import pickle\n",
    "\n",
    "with open('elasnet.pkl', 'rb') as f:\n",
    "    clf2 = pickle.load(f)\n"
   ]
  },
  {
   "cell_type": "code",
   "execution_count": 31,
   "metadata": {},
   "outputs": [
    {
     "name": "stderr",
     "output_type": "stream",
     "text": [
      "c:\\Python10\\lib\\site-packages\\sklearn\\base.py:413: UserWarning: X has feature names, but ElasticNet was fitted without feature names\n",
      "  warnings.warn(\n"
     ]
    },
    {
     "ename": "ValueError",
     "evalue": "X has 31 features, but ElasticNet is expecting 527 features as input.",
     "output_type": "error",
     "traceback": [
      "\u001b[1;31m---------------------------------------------------------------------------\u001b[0m",
      "\u001b[1;31mValueError\u001b[0m                                Traceback (most recent call last)",
      "Cell \u001b[1;32mIn[31], line 1\u001b[0m\n\u001b[1;32m----> 1\u001b[0m elas_predict\u001b[39m=\u001b[39mclf2\u001b[39m.\u001b[39;49mpredict(X_test)\n",
      "File \u001b[1;32mc:\\Python10\\lib\\site-packages\\sklearn\\linear_model\\_base.py:354\u001b[0m, in \u001b[0;36mLinearModel.predict\u001b[1;34m(self, X)\u001b[0m\n\u001b[0;32m    340\u001b[0m \u001b[39mdef\u001b[39;00m \u001b[39mpredict\u001b[39m(\u001b[39mself\u001b[39m, X):\n\u001b[0;32m    341\u001b[0m \u001b[39m    \u001b[39m\u001b[39m\"\"\"\u001b[39;00m\n\u001b[0;32m    342\u001b[0m \u001b[39m    Predict using the linear model.\u001b[39;00m\n\u001b[0;32m    343\u001b[0m \n\u001b[1;32m   (...)\u001b[0m\n\u001b[0;32m    352\u001b[0m \u001b[39m        Returns predicted values.\u001b[39;00m\n\u001b[0;32m    353\u001b[0m \u001b[39m    \"\"\"\u001b[39;00m\n\u001b[1;32m--> 354\u001b[0m     \u001b[39mreturn\u001b[39;00m \u001b[39mself\u001b[39;49m\u001b[39m.\u001b[39;49m_decision_function(X)\n",
      "File \u001b[1;32mc:\\Python10\\lib\\site-packages\\sklearn\\linear_model\\_coordinate_descent.py:1074\u001b[0m, in \u001b[0;36mElasticNet._decision_function\u001b[1;34m(self, X)\u001b[0m\n\u001b[0;32m   1072\u001b[0m     \u001b[39mreturn\u001b[39;00m safe_sparse_dot(X, \u001b[39mself\u001b[39m\u001b[39m.\u001b[39mcoef_\u001b[39m.\u001b[39mT, dense_output\u001b[39m=\u001b[39m\u001b[39mTrue\u001b[39;00m) \u001b[39m+\u001b[39m \u001b[39mself\u001b[39m\u001b[39m.\u001b[39mintercept_\n\u001b[0;32m   1073\u001b[0m \u001b[39melse\u001b[39;00m:\n\u001b[1;32m-> 1074\u001b[0m     \u001b[39mreturn\u001b[39;00m \u001b[39msuper\u001b[39;49m()\u001b[39m.\u001b[39;49m_decision_function(X)\n",
      "File \u001b[1;32mc:\\Python10\\lib\\site-packages\\sklearn\\linear_model\\_base.py:337\u001b[0m, in \u001b[0;36mLinearModel._decision_function\u001b[1;34m(self, X)\u001b[0m\n\u001b[0;32m    334\u001b[0m \u001b[39mdef\u001b[39;00m \u001b[39m_decision_function\u001b[39m(\u001b[39mself\u001b[39m, X):\n\u001b[0;32m    335\u001b[0m     check_is_fitted(\u001b[39mself\u001b[39m)\n\u001b[1;32m--> 337\u001b[0m     X \u001b[39m=\u001b[39m \u001b[39mself\u001b[39;49m\u001b[39m.\u001b[39;49m_validate_data(X, accept_sparse\u001b[39m=\u001b[39;49m[\u001b[39m\"\u001b[39;49m\u001b[39mcsr\u001b[39;49m\u001b[39m\"\u001b[39;49m, \u001b[39m\"\u001b[39;49m\u001b[39mcsc\u001b[39;49m\u001b[39m\"\u001b[39;49m, \u001b[39m\"\u001b[39;49m\u001b[39mcoo\u001b[39;49m\u001b[39m\"\u001b[39;49m], reset\u001b[39m=\u001b[39;49m\u001b[39mFalse\u001b[39;49;00m)\n\u001b[0;32m    338\u001b[0m     \u001b[39mreturn\u001b[39;00m safe_sparse_dot(X, \u001b[39mself\u001b[39m\u001b[39m.\u001b[39mcoef_\u001b[39m.\u001b[39mT, dense_output\u001b[39m=\u001b[39m\u001b[39mTrue\u001b[39;00m) \u001b[39m+\u001b[39m \u001b[39mself\u001b[39m\u001b[39m.\u001b[39mintercept_\n",
      "File \u001b[1;32mc:\\Python10\\lib\\site-packages\\sklearn\\base.py:569\u001b[0m, in \u001b[0;36mBaseEstimator._validate_data\u001b[1;34m(self, X, y, reset, validate_separately, **check_params)\u001b[0m\n\u001b[0;32m    566\u001b[0m     out \u001b[39m=\u001b[39m X, y\n\u001b[0;32m    568\u001b[0m \u001b[39mif\u001b[39;00m \u001b[39mnot\u001b[39;00m no_val_X \u001b[39mand\u001b[39;00m check_params\u001b[39m.\u001b[39mget(\u001b[39m\"\u001b[39m\u001b[39mensure_2d\u001b[39m\u001b[39m\"\u001b[39m, \u001b[39mTrue\u001b[39;00m):\n\u001b[1;32m--> 569\u001b[0m     \u001b[39mself\u001b[39;49m\u001b[39m.\u001b[39;49m_check_n_features(X, reset\u001b[39m=\u001b[39;49mreset)\n\u001b[0;32m    571\u001b[0m \u001b[39mreturn\u001b[39;00m out\n",
      "File \u001b[1;32mc:\\Python10\\lib\\site-packages\\sklearn\\base.py:370\u001b[0m, in \u001b[0;36mBaseEstimator._check_n_features\u001b[1;34m(self, X, reset)\u001b[0m\n\u001b[0;32m    367\u001b[0m     \u001b[39mreturn\u001b[39;00m\n\u001b[0;32m    369\u001b[0m \u001b[39mif\u001b[39;00m n_features \u001b[39m!=\u001b[39m \u001b[39mself\u001b[39m\u001b[39m.\u001b[39mn_features_in_:\n\u001b[1;32m--> 370\u001b[0m     \u001b[39mraise\u001b[39;00m \u001b[39mValueError\u001b[39;00m(\n\u001b[0;32m    371\u001b[0m         \u001b[39mf\u001b[39m\u001b[39m\"\u001b[39m\u001b[39mX has \u001b[39m\u001b[39m{\u001b[39;00mn_features\u001b[39m}\u001b[39;00m\u001b[39m features, but \u001b[39m\u001b[39m{\u001b[39;00m\u001b[39mself\u001b[39m\u001b[39m.\u001b[39m\u001b[39m__class__\u001b[39m\u001b[39m.\u001b[39m\u001b[39m__name__\u001b[39m\u001b[39m}\u001b[39;00m\u001b[39m \u001b[39m\u001b[39m\"\u001b[39m\n\u001b[0;32m    372\u001b[0m         \u001b[39mf\u001b[39m\u001b[39m\"\u001b[39m\u001b[39mis expecting \u001b[39m\u001b[39m{\u001b[39;00m\u001b[39mself\u001b[39m\u001b[39m.\u001b[39mn_features_in_\u001b[39m}\u001b[39;00m\u001b[39m features as input.\u001b[39m\u001b[39m\"\u001b[39m\n\u001b[0;32m    373\u001b[0m     )\n",
      "\u001b[1;31mValueError\u001b[0m: X has 31 features, but ElasticNet is expecting 527 features as input."
     ]
    }
   ],
   "source": [
    "elas_predict=clf2.predict(X_test)"
   ]
  },
  {
   "cell_type": "code",
   "execution_count": null,
   "metadata": {},
   "outputs": [],
   "source": []
  }
 ],
 "metadata": {
  "kernelspec": {
   "display_name": "Python 3",
   "language": "python",
   "name": "python3"
  },
  "language_info": {
   "codemirror_mode": {
    "name": "ipython",
    "version": 3
   },
   "file_extension": ".py",
   "mimetype": "text/x-python",
   "name": "python",
   "nbconvert_exporter": "python",
   "pygments_lexer": "ipython3",
   "version": "3.10.6"
  },
  "orig_nbformat": 4
 },
 "nbformat": 4,
 "nbformat_minor": 2
}
