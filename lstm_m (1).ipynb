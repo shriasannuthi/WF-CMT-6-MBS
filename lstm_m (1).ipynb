{
 "cells": [
  {
   "cell_type": "code",
   "execution_count": 1,
   "metadata": {},
   "outputs": [],
   "source": [
    "import numpy as np\n",
    "from keras.models import Sequential\n",
    "from keras.layers import LSTM\n",
    "from keras.layers import Dense, Dropout\n",
    "import pandas as pd\n",
    "from matplotlib import pyplot as plt\n",
    "from sklearn.preprocessing import StandardScaler\n",
    "import seaborn as sns\n",
    "import tensorflow as tf\n",
    "\n",
    "from sklearn.model_selection import train_test_split"
   ]
  },
  {
   "cell_type": "code",
   "execution_count": 2,
   "metadata": {},
   "outputs": [
    {
     "name": "stdout",
     "output_type": "stream",
     "text": [
      "   Loan Identifier  Monthly Reporting Period  Channel  Original Interest Rate  \\\n",
      "0     100007365142                     12000        2                     8.0   \n",
      "1     100007365142                     22000        2                     8.0   \n",
      "2     100007365142                     32000        2                     8.0   \n",
      "3     100007365142                     42000        2                     8.0   \n",
      "4     100007365142                     52000        2                     8.0   \n",
      "\n",
      "   Current Interest Rate  Original UPB  Current Actual UPB  \\\n",
      "0                    8.0       75000.0             75000.0   \n",
      "1                    8.0       75000.0             75000.0   \n",
      "2                    8.0       75000.0             75000.0   \n",
      "3                    8.0       75000.0             75000.0   \n",
      "4                    8.0       75000.0             75000.0   \n",
      "\n",
      "   Original Loan Term  Origination Date  First Payment Date  ...  \\\n",
      "0                 360            121999               22000  ...   \n",
      "1                 360            121999               22000  ...   \n",
      "2                 360            121999               22000  ...   \n",
      "3                 360            121999               22000  ...   \n",
      "4                 360            121999               22000  ...   \n",
      "\n",
      "   High Balance Loan Indicator  Unemployment_rate  Divorce_rate  \\\n",
      "0                            0                4.0           4.0   \n",
      "1                            0                4.0           4.0   \n",
      "2                            0                4.0           4.0   \n",
      "3                            0                4.0           4.0   \n",
      "4                            0                4.0           4.0   \n",
      "\n",
      "   Inflation_rate        EMI  UPB_diff  Interest_Component  PREPAYMENT_AMT  \\\n",
      "0             2.7  550.32343       0.0               500.0             0.0   \n",
      "1             3.2  550.32343       0.0               500.0             0.0   \n",
      "2             3.8  550.32343       0.0               500.0             0.0   \n",
      "3             3.1  550.32343       0.0               500.0             0.0   \n",
      "4             3.2  550.32343       0.0               500.0             0.0   \n",
      "\n",
      "   Previous_UPB  Remaining MFM  \n",
      "0       75000.0            359  \n",
      "1       75000.0            358  \n",
      "2       75000.0            357  \n",
      "3       75000.0            356  \n",
      "4       75000.0            355  \n",
      "\n",
      "[5 rows x 37 columns]\n"
     ]
    }
   ],
   "source": [
    "data_f = pd.read_csv(\"C:\\\\Users\\\\joelv\\\\Downloads\\\\WF-CMT-6-MBS-main\\\\WF-CMT-6-MBS-main\\\\Combined_Dataset\\\\Dataset.csv\")\n",
    "print(data_f.head())\n",
    "\n"
   ]
  },
  {
   "cell_type": "code",
   "execution_count": null,
   "metadata": {},
   "outputs": [],
   "source": []
  },
  {
   "cell_type": "code",
   "execution_count": 3,
   "metadata": {},
   "outputs": [
    {
     "name": "stdout",
     "output_type": "stream",
     "text": [
      "37\n",
      "Index(['Loan Identifier', 'Monthly Reporting Period', 'Channel',\n",
      "       'Original Interest Rate', 'Current Interest Rate', 'Original UPB',\n",
      "       'Current Actual UPB', 'Original Loan Term', 'Origination Date',\n",
      "       'First Payment Date', 'Remaining Months To Maturity',\n",
      "       'Original Loan to Value Ratio (LTV)', 'Debt-To-Income (DTI)',\n",
      "       'Borrower Credit Score at Origination',\n",
      "       'First Time Home Buyer Indicator', 'Loan Purpose', 'Property Type',\n",
      "       'Number of Units', 'Occupancy Status',\n",
      "       'Metropolitan Statistical Area (MSA)', 'Zip Code Short',\n",
      "       'Interest Only Loan Indicator', 'Current Loan Delinquency Status',\n",
      "       'Modification Flag', 'Zero Balance Code', 'Special Eligibility Program',\n",
      "       'Property Valuation Method', 'High Balance Loan Indicator',\n",
      "       'Unemployment_rate', 'Divorce_rate', 'Inflation_rate', 'EMI',\n",
      "       'UPB_diff', 'Interest_Component', 'PREPAYMENT_AMT', 'Previous_UPB',\n",
      "       'Remaining MFM'],\n",
      "      dtype='object')\n"
     ]
    }
   ],
   "source": [
    "cols=data_f.columns\n",
    "\n",
    "print(len(cols))\n",
    "print(cols)"
   ]
  },
  {
   "cell_type": "code",
   "execution_count": null,
   "metadata": {},
   "outputs": [],
   "source": []
  },
  {
   "cell_type": "code",
   "execution_count": 4,
   "metadata": {},
   "outputs": [],
   "source": [
    "time_steps = 6\n"
   ]
  },
  {
   "cell_type": "code",
   "execution_count": 34,
   "metadata": {},
   "outputs": [],
   "source": [
    "from numpy import array\n",
    "\n",
    "def split_sequences(dataf, n_steps): \n",
    "    sequences = dataf.copy()\n",
    "    \n",
    "    #print(sequences.columns)   \n",
    "    y_df = sequences['Current Actual UPB']\n",
    "    x_df = sequences.drop(['Loan Identifier','Current Actual UPB','UPB_diff','EMI','Interest_Component','PREPAYMENT_AMT','Remaining Months To Maturity'], axis = 1)\n",
    "    x_unique = sequences['Loan Identifier']\n",
    "    X,Y,unique = list(), list(), list()\n",
    "    #print(len(sequences))\n",
    "    x_arr = np.asarray(x_df.values.tolist())\n",
    "    y_arr = np.asarray(y_df.values.tolist()).reshape(len(y_df.values.tolist()),1)\n",
    "    unique = np.asarray(unique.values.tolist())\n",
    "    \n",
    "    print(y_arr.shape)\n",
    "    for i in range(len(sequences)):\n",
    "        # find the end of this pattern\n",
    "        end_ix = i + time_steps\n",
    "        # check if we are beyond the dataset\n",
    "        if end_ix > len(sequences)-1:\n",
    "            break\n",
    "        if(unique[end_ix]!=unique[end_ix-1]):\n",
    "            i=end_ix\n",
    "            continue\n",
    "        # gather input and output parts of the pattern\n",
    "\n",
    "        #print(len(x_arr))\n",
    "        seq_x = x_arr[i:end_ix, :]\n",
    "        seq_y = y_arr[end_ix-1,-1]\n",
    "        X.append(seq_x)\n",
    "        Y.append(seq_y)\n",
    "        \n",
    "        \n",
    "   \n",
    "    return array(X), array(Y)"
   ]
  },
  {
   "cell_type": "code",
   "execution_count": 35,
   "metadata": {},
   "outputs": [
    {
     "name": "stdout",
     "output_type": "stream",
     "text": [
      "(1256468, 1)\n"
     ]
    }
   ],
   "source": [
    "X,Y= split_sequences(data_f, time_steps)\n"
   ]
  },
  {
   "cell_type": "code",
   "execution_count": 7,
   "metadata": {},
   "outputs": [
    {
     "data": {
      "text/plain": [
       "array([[[1.20000e+04, 2.00000e+00, 8.00000e+00, ..., 4.00000e+00,\n",
       "         4.00000e+00, 2.70000e+00],\n",
       "        [2.20000e+04, 2.00000e+00, 8.00000e+00, ..., 4.00000e+00,\n",
       "         4.00000e+00, 3.20000e+00],\n",
       "        [3.20000e+04, 2.00000e+00, 8.00000e+00, ..., 4.00000e+00,\n",
       "         4.00000e+00, 3.80000e+00],\n",
       "        [4.20000e+04, 2.00000e+00, 8.00000e+00, ..., 4.00000e+00,\n",
       "         4.00000e+00, 3.10000e+00],\n",
       "        [5.20000e+04, 2.00000e+00, 8.00000e+00, ..., 4.00000e+00,\n",
       "         4.00000e+00, 3.20000e+00],\n",
       "        [6.20000e+04, 2.00000e+00, 8.00000e+00, ..., 4.00000e+00,\n",
       "         4.00000e+00, 3.70000e+00]],\n",
       "\n",
       "       [[2.20000e+04, 2.00000e+00, 8.00000e+00, ..., 4.00000e+00,\n",
       "         4.00000e+00, 3.20000e+00],\n",
       "        [3.20000e+04, 2.00000e+00, 8.00000e+00, ..., 4.00000e+00,\n",
       "         4.00000e+00, 3.80000e+00],\n",
       "        [4.20000e+04, 2.00000e+00, 8.00000e+00, ..., 4.00000e+00,\n",
       "         4.00000e+00, 3.10000e+00],\n",
       "        [5.20000e+04, 2.00000e+00, 8.00000e+00, ..., 4.00000e+00,\n",
       "         4.00000e+00, 3.20000e+00],\n",
       "        [6.20000e+04, 2.00000e+00, 8.00000e+00, ..., 4.00000e+00,\n",
       "         4.00000e+00, 3.70000e+00],\n",
       "        [7.20000e+04, 2.00000e+00, 8.00000e+00, ..., 4.00000e+00,\n",
       "         4.00000e+00, 3.70000e+00]],\n",
       "\n",
       "       [[3.20000e+04, 2.00000e+00, 8.00000e+00, ..., 4.00000e+00,\n",
       "         4.00000e+00, 3.80000e+00],\n",
       "        [4.20000e+04, 2.00000e+00, 8.00000e+00, ..., 4.00000e+00,\n",
       "         4.00000e+00, 3.10000e+00],\n",
       "        [5.20000e+04, 2.00000e+00, 8.00000e+00, ..., 4.00000e+00,\n",
       "         4.00000e+00, 3.20000e+00],\n",
       "        [6.20000e+04, 2.00000e+00, 8.00000e+00, ..., 4.00000e+00,\n",
       "         4.00000e+00, 3.70000e+00],\n",
       "        [7.20000e+04, 2.00000e+00, 8.00000e+00, ..., 4.00000e+00,\n",
       "         4.00000e+00, 3.70000e+00],\n",
       "        [8.20000e+04, 2.00000e+00, 8.00000e+00, ..., 4.00000e+00,\n",
       "         4.00000e+00, 3.40000e+00]],\n",
       "\n",
       "       ...,\n",
       "\n",
       "       [[7.20210e+04, 2.00000e+00, 3.06200e+00, ..., 5.30000e+00,\n",
       "         2.50000e+00, 5.40000e+00],\n",
       "        [8.20210e+04, 2.00000e+00, 3.06200e+00, ..., 5.30000e+00,\n",
       "         2.50000e+00, 5.30000e+00],\n",
       "        [9.20210e+04, 2.00000e+00, 3.06200e+00, ..., 5.30000e+00,\n",
       "         2.50000e+00, 5.40000e+00],\n",
       "        [1.02021e+05, 2.00000e+00, 3.06200e+00, ..., 5.30000e+00,\n",
       "         2.50000e+00, 6.20000e+00],\n",
       "        [1.12021e+05, 2.00000e+00, 3.06200e+00, ..., 5.30000e+00,\n",
       "         2.50000e+00, 6.80000e+00],\n",
       "        [1.22021e+05, 2.00000e+00, 3.06200e+00, ..., 5.30000e+00,\n",
       "         2.50000e+00, 7.00000e+00]],\n",
       "\n",
       "       [[8.20210e+04, 2.00000e+00, 3.06200e+00, ..., 5.30000e+00,\n",
       "         2.50000e+00, 5.30000e+00],\n",
       "        [9.20210e+04, 2.00000e+00, 3.06200e+00, ..., 5.30000e+00,\n",
       "         2.50000e+00, 5.40000e+00],\n",
       "        [1.02021e+05, 2.00000e+00, 3.06200e+00, ..., 5.30000e+00,\n",
       "         2.50000e+00, 6.20000e+00],\n",
       "        [1.12021e+05, 2.00000e+00, 3.06200e+00, ..., 5.30000e+00,\n",
       "         2.50000e+00, 6.80000e+00],\n",
       "        [1.22021e+05, 2.00000e+00, 3.06200e+00, ..., 5.30000e+00,\n",
       "         2.50000e+00, 7.00000e+00],\n",
       "        [1.20220e+04, 2.00000e+00, 3.06200e+00, ..., 3.60000e+00,\n",
       "         2.30000e+00, 7.50000e+00]],\n",
       "\n",
       "       [[9.20210e+04, 2.00000e+00, 3.06200e+00, ..., 5.30000e+00,\n",
       "         2.50000e+00, 5.40000e+00],\n",
       "        [1.02021e+05, 2.00000e+00, 3.06200e+00, ..., 5.30000e+00,\n",
       "         2.50000e+00, 6.20000e+00],\n",
       "        [1.12021e+05, 2.00000e+00, 3.06200e+00, ..., 5.30000e+00,\n",
       "         2.50000e+00, 6.80000e+00],\n",
       "        [1.22021e+05, 2.00000e+00, 3.06200e+00, ..., 5.30000e+00,\n",
       "         2.50000e+00, 7.00000e+00],\n",
       "        [1.20220e+04, 2.00000e+00, 3.06200e+00, ..., 3.60000e+00,\n",
       "         2.30000e+00, 7.50000e+00],\n",
       "        [2.20220e+04, 2.00000e+00, 3.06200e+00, ..., 3.60000e+00,\n",
       "         2.30000e+00, 7.90000e+00]]])"
      ]
     },
     "execution_count": 7,
     "metadata": {},
     "output_type": "execute_result"
    }
   ],
   "source": [
    "X"
   ]
  },
  {
   "cell_type": "code",
   "execution_count": 8,
   "metadata": {},
   "outputs": [
    {
     "data": {
      "text/plain": [
       "array([ 75000.  ,  74693.  ,  74587.91, ..., 499853.61, 498960.1 ,\n",
       "       498064.31])"
      ]
     },
     "execution_count": 8,
     "metadata": {},
     "output_type": "execute_result"
    }
   ],
   "source": [
    "Y"
   ]
  },
  {
   "cell_type": "code",
   "execution_count": 9,
   "metadata": {},
   "outputs": [],
   "source": [
    "# time_steps = 6\n"
   ]
  },
  {
   "cell_type": "code",
   "execution_count": 36,
   "metadata": {},
   "outputs": [],
   "source": [
    "\n",
    "X_train, X_test, Y_train, Y_test = train_test_split(X,Y ,train_size=0.8, test_size = 0.2, shuffle=False)"
   ]
  },
  {
   "cell_type": "code",
   "execution_count": 23,
   "metadata": {},
   "outputs": [
    {
     "data": {
      "text/plain": [
       "(1005169, 6, 29)"
      ]
     },
     "execution_count": 23,
     "metadata": {},
     "output_type": "execute_result"
    }
   ],
   "source": [
    "X_train.shape"
   ]
  },
  {
   "cell_type": "code",
   "execution_count": 12,
   "metadata": {},
   "outputs": [],
   "source": [
    "\n",
    "# X_train, X_test, Y_train, Y_test = train_test_split(X.squeeze(0),Y.squeeze(0) ,random_state = 0,train_size=0.8, test_size = 0.2, shuffle=False)\n",
    "# X_train = np.expand_dims(X_train,axis=0)\n",
    "# X_test = np.expand_dims(X_test,axis=0)\n",
    "# Y_train = np.expand_dims(Y_train,axis=0)\n",
    "# Y_test = np.expand_dims(Y_test,axis=0)\n",
    "# x=X_train[:,:,0:3]\n",
    "# print(X_train.shape)"
   ]
  },
  {
   "cell_type": "code",
   "execution_count": 37,
   "metadata": {},
   "outputs": [
    {
     "name": "stdout",
     "output_type": "stream",
     "text": [
      "30\n"
     ]
    }
   ],
   "source": [
    "n_features = X_train.shape[2]\n",
    "print(n_features)\n",
    "\n",
    "\n"
   ]
  },
  {
   "cell_type": "code",
   "execution_count": 15,
   "metadata": {},
   "outputs": [
    {
     "data": {
      "text/plain": [
       "(1005169, 6, 28)"
      ]
     },
     "execution_count": 15,
     "metadata": {},
     "output_type": "execute_result"
    }
   ],
   "source": [
    "X_train.shape\n"
   ]
  },
  {
   "cell_type": "code",
   "execution_count": 16,
   "metadata": {},
   "outputs": [
    {
     "name": "stdout",
     "output_type": "stream",
     "text": [
      "dropout:0\tbatchsize:32\toptimzer:rmsprop\tHidden_U:15\n",
      "Epoch 1/4\n"
     ]
    },
    {
     "ename": "InvalidArgumentError",
     "evalue": "Graph execution error:\n\nDetected at node 'gradient_tape/mean_squared_error/BroadcastGradientArgs' defined at (most recent call last):\n    File \"c:\\Users\\joelv\\AppData\\Local\\Programs\\Python\\Python39\\lib\\runpy.py\", line 197, in _run_module_as_main\n      return _run_code(code, main_globals, None,\n    File \"c:\\Users\\joelv\\AppData\\Local\\Programs\\Python\\Python39\\lib\\runpy.py\", line 87, in _run_code\n      exec(code, run_globals)\n    File \"c:\\Users\\joelv\\AppData\\Local\\Programs\\Python\\Python39\\lib\\site-packages\\ipykernel_launcher.py\", line 16, in <module>\n      app.launch_new_instance()\n    File \"c:\\Users\\joelv\\AppData\\Local\\Programs\\Python\\Python39\\lib\\site-packages\\traitlets\\config\\application.py\", line 1043, in launch_instance\n      app.start()\n    File \"c:\\Users\\joelv\\AppData\\Local\\Programs\\Python\\Python39\\lib\\site-packages\\ipykernel\\kernelapp.py\", line 677, in start\n      self.io_loop.start()\n    File \"c:\\Users\\joelv\\AppData\\Local\\Programs\\Python\\Python39\\lib\\site-packages\\tornado\\platform\\asyncio.py\", line 215, in start\n      self.asyncio_loop.run_forever()\n    File \"c:\\Users\\joelv\\AppData\\Local\\Programs\\Python\\Python39\\lib\\asyncio\\base_events.py\", line 596, in run_forever\n      self._run_once()\n    File \"c:\\Users\\joelv\\AppData\\Local\\Programs\\Python\\Python39\\lib\\asyncio\\base_events.py\", line 1890, in _run_once\n      handle._run()\n    File \"c:\\Users\\joelv\\AppData\\Local\\Programs\\Python\\Python39\\lib\\asyncio\\events.py\", line 80, in _run\n      self._context.run(self._callback, *self._args)\n    File \"c:\\Users\\joelv\\AppData\\Local\\Programs\\Python\\Python39\\lib\\site-packages\\ipykernel\\kernelbase.py\", line 457, in dispatch_queue\n      await self.process_one()\n    File \"c:\\Users\\joelv\\AppData\\Local\\Programs\\Python\\Python39\\lib\\site-packages\\ipykernel\\kernelbase.py\", line 446, in process_one\n      await dispatch(*args)\n    File \"c:\\Users\\joelv\\AppData\\Local\\Programs\\Python\\Python39\\lib\\site-packages\\ipykernel\\kernelbase.py\", line 353, in dispatch_shell\n      await result\n    File \"c:\\Users\\joelv\\AppData\\Local\\Programs\\Python\\Python39\\lib\\site-packages\\ipykernel\\kernelbase.py\", line 648, in execute_request\n      reply_content = await reply_content\n    File \"c:\\Users\\joelv\\AppData\\Local\\Programs\\Python\\Python39\\lib\\site-packages\\ipykernel\\ipkernel.py\", line 353, in do_execute\n      res = shell.run_cell(code, store_history=store_history, silent=silent)\n    File \"c:\\Users\\joelv\\AppData\\Local\\Programs\\Python\\Python39\\lib\\site-packages\\ipykernel\\zmqshell.py\", line 533, in run_cell\n      return super(ZMQInteractiveShell, self).run_cell(*args, **kwargs)\n    File \"c:\\Users\\joelv\\AppData\\Local\\Programs\\Python\\Python39\\lib\\site-packages\\IPython\\core\\interactiveshell.py\", line 2914, in run_cell\n      result = self._run_cell(\n    File \"c:\\Users\\joelv\\AppData\\Local\\Programs\\Python\\Python39\\lib\\site-packages\\IPython\\core\\interactiveshell.py\", line 2960, in _run_cell\n      return runner(coro)\n    File \"c:\\Users\\joelv\\AppData\\Local\\Programs\\Python\\Python39\\lib\\site-packages\\IPython\\core\\async_helpers.py\", line 78, in _pseudo_sync_runner\n      coro.send(None)\n    File \"c:\\Users\\joelv\\AppData\\Local\\Programs\\Python\\Python39\\lib\\site-packages\\IPython\\core\\interactiveshell.py\", line 3185, in run_cell_async\n      has_raised = await self.run_ast_nodes(code_ast.body, cell_name,\n    File \"c:\\Users\\joelv\\AppData\\Local\\Programs\\Python\\Python39\\lib\\site-packages\\IPython\\core\\interactiveshell.py\", line 3377, in run_ast_nodes\n      if (await self.run_code(code, result,  async_=asy)):\n    File \"c:\\Users\\joelv\\AppData\\Local\\Programs\\Python\\Python39\\lib\\site-packages\\IPython\\core\\interactiveshell.py\", line 3457, in run_code\n      exec(code_obj, self.user_global_ns, self.user_ns)\n    File \"C:\\Users\\joelv\\AppData\\Local\\Temp/ipykernel_16772/3654335977.py\", line 22, in <module>\n      lstm_model.fit(X_train, Y_train,batch_size=batch_size, epochs=4, verbose=1,validation_data=(X_test, Y_test*1.0))\n    File \"c:\\Users\\joelv\\AppData\\Local\\Programs\\Python\\Python39\\lib\\site-packages\\keras\\utils\\traceback_utils.py\", line 65, in error_handler\n      return fn(*args, **kwargs)\n    File \"c:\\Users\\joelv\\AppData\\Local\\Programs\\Python\\Python39\\lib\\site-packages\\keras\\engine\\training.py\", line 1685, in fit\n      tmp_logs = self.train_function(iterator)\n    File \"c:\\Users\\joelv\\AppData\\Local\\Programs\\Python\\Python39\\lib\\site-packages\\keras\\engine\\training.py\", line 1284, in train_function\n      return step_function(self, iterator)\n    File \"c:\\Users\\joelv\\AppData\\Local\\Programs\\Python\\Python39\\lib\\site-packages\\keras\\engine\\training.py\", line 1268, in step_function\n      outputs = model.distribute_strategy.run(run_step, args=(data,))\n    File \"c:\\Users\\joelv\\AppData\\Local\\Programs\\Python\\Python39\\lib\\site-packages\\keras\\engine\\training.py\", line 1249, in run_step\n      outputs = model.train_step(data)\n    File \"c:\\Users\\joelv\\AppData\\Local\\Programs\\Python\\Python39\\lib\\site-packages\\keras\\engine\\training.py\", line 1054, in train_step\n      self.optimizer.minimize(loss, self.trainable_variables, tape=tape)\n    File \"c:\\Users\\joelv\\AppData\\Local\\Programs\\Python\\Python39\\lib\\site-packages\\keras\\optimizers\\optimizer.py\", line 542, in minimize\n      grads_and_vars = self.compute_gradients(loss, var_list, tape)\n    File \"c:\\Users\\joelv\\AppData\\Local\\Programs\\Python\\Python39\\lib\\site-packages\\keras\\optimizers\\optimizer.py\", line 275, in compute_gradients\n      grads = tape.gradient(loss, var_list)\nNode: 'gradient_tape/mean_squared_error/BroadcastGradientArgs'\nIncompatible shapes: [32,6,28] vs. [32]\n\t [[{{node gradient_tape/mean_squared_error/BroadcastGradientArgs}}]] [Op:__inference_train_function_5649]",
     "output_type": "error",
     "traceback": [
      "\u001b[1;31m---------------------------------------------------------------------------\u001b[0m",
      "\u001b[1;31mInvalidArgumentError\u001b[0m                      Traceback (most recent call last)",
      "\u001b[1;32m~\\AppData\\Local\\Temp/ipykernel_16772/3654335977.py\u001b[0m in \u001b[0;36m<module>\u001b[1;34m\u001b[0m\n\u001b[0;32m     20\u001b[0m                 \u001b[1;31m#weights = np.ones((4,))*1.0\u001b[0m\u001b[1;33m\u001b[0m\u001b[1;33m\u001b[0m\u001b[1;33m\u001b[0m\u001b[0m\n\u001b[0;32m     21\u001b[0m                 \u001b[0mlstm_model\u001b[0m\u001b[1;33m.\u001b[0m\u001b[0mcompile\u001b[0m\u001b[1;33m(\u001b[0m\u001b[0moptimizer\u001b[0m \u001b[1;33m=\u001b[0m \u001b[0moptimizer\u001b[0m\u001b[1;33m,\u001b[0m \u001b[0mloss\u001b[0m \u001b[1;33m=\u001b[0m \u001b[1;34m'mse'\u001b[0m\u001b[1;33m,\u001b[0m \u001b[0mmetrics\u001b[0m \u001b[1;33m=\u001b[0m \u001b[1;33m[\u001b[0m\u001b[1;34m'categorical_accuracy'\u001b[0m\u001b[1;33m]\u001b[0m\u001b[1;33m)\u001b[0m\u001b[1;33m\u001b[0m\u001b[1;33m\u001b[0m\u001b[0m\n\u001b[1;32m---> 22\u001b[1;33m                 \u001b[0mlstm_model\u001b[0m\u001b[1;33m.\u001b[0m\u001b[0mfit\u001b[0m\u001b[1;33m(\u001b[0m\u001b[0mX_train\u001b[0m\u001b[1;33m,\u001b[0m \u001b[0mY_train\u001b[0m\u001b[1;33m,\u001b[0m\u001b[0mbatch_size\u001b[0m\u001b[1;33m=\u001b[0m\u001b[0mbatch_size\u001b[0m\u001b[1;33m,\u001b[0m \u001b[0mepochs\u001b[0m\u001b[1;33m=\u001b[0m\u001b[1;36m4\u001b[0m\u001b[1;33m,\u001b[0m \u001b[0mverbose\u001b[0m\u001b[1;33m=\u001b[0m\u001b[1;36m1\u001b[0m\u001b[1;33m,\u001b[0m\u001b[0mvalidation_data\u001b[0m\u001b[1;33m=\u001b[0m\u001b[1;33m(\u001b[0m\u001b[0mX_test\u001b[0m\u001b[1;33m,\u001b[0m \u001b[0mY_test\u001b[0m\u001b[1;33m*\u001b[0m\u001b[1;36m1.0\u001b[0m\u001b[1;33m)\u001b[0m\u001b[1;33m)\u001b[0m\u001b[1;33m\u001b[0m\u001b[1;33m\u001b[0m\u001b[0m\n\u001b[0m",
      "\u001b[1;32mc:\\Users\\joelv\\AppData\\Local\\Programs\\Python\\Python39\\lib\\site-packages\\keras\\utils\\traceback_utils.py\u001b[0m in \u001b[0;36merror_handler\u001b[1;34m(*args, **kwargs)\u001b[0m\n\u001b[0;32m     68\u001b[0m             \u001b[1;31m# To get the full stack trace, call:\u001b[0m\u001b[1;33m\u001b[0m\u001b[1;33m\u001b[0m\u001b[1;33m\u001b[0m\u001b[0m\n\u001b[0;32m     69\u001b[0m             \u001b[1;31m# `tf.debugging.disable_traceback_filtering()`\u001b[0m\u001b[1;33m\u001b[0m\u001b[1;33m\u001b[0m\u001b[1;33m\u001b[0m\u001b[0m\n\u001b[1;32m---> 70\u001b[1;33m             \u001b[1;32mraise\u001b[0m \u001b[0me\u001b[0m\u001b[1;33m.\u001b[0m\u001b[0mwith_traceback\u001b[0m\u001b[1;33m(\u001b[0m\u001b[0mfiltered_tb\u001b[0m\u001b[1;33m)\u001b[0m \u001b[1;32mfrom\u001b[0m \u001b[1;32mNone\u001b[0m\u001b[1;33m\u001b[0m\u001b[1;33m\u001b[0m\u001b[0m\n\u001b[0m\u001b[0;32m     71\u001b[0m         \u001b[1;32mfinally\u001b[0m\u001b[1;33m:\u001b[0m\u001b[1;33m\u001b[0m\u001b[1;33m\u001b[0m\u001b[0m\n\u001b[0;32m     72\u001b[0m             \u001b[1;32mdel\u001b[0m \u001b[0mfiltered_tb\u001b[0m\u001b[1;33m\u001b[0m\u001b[1;33m\u001b[0m\u001b[0m\n",
      "\u001b[1;32mc:\\Users\\joelv\\AppData\\Local\\Programs\\Python\\Python39\\lib\\site-packages\\tensorflow\\python\\eager\\execute.py\u001b[0m in \u001b[0;36mquick_execute\u001b[1;34m(op_name, num_outputs, inputs, attrs, ctx, name)\u001b[0m\n\u001b[0;32m     50\u001b[0m   \u001b[1;32mtry\u001b[0m\u001b[1;33m:\u001b[0m\u001b[1;33m\u001b[0m\u001b[1;33m\u001b[0m\u001b[0m\n\u001b[0;32m     51\u001b[0m     \u001b[0mctx\u001b[0m\u001b[1;33m.\u001b[0m\u001b[0mensure_initialized\u001b[0m\u001b[1;33m(\u001b[0m\u001b[1;33m)\u001b[0m\u001b[1;33m\u001b[0m\u001b[1;33m\u001b[0m\u001b[0m\n\u001b[1;32m---> 52\u001b[1;33m     tensors = pywrap_tfe.TFE_Py_Execute(ctx._handle, device_name, op_name,\n\u001b[0m\u001b[0;32m     53\u001b[0m                                         inputs, attrs, num_outputs)\n\u001b[0;32m     54\u001b[0m   \u001b[1;32mexcept\u001b[0m \u001b[0mcore\u001b[0m\u001b[1;33m.\u001b[0m\u001b[0m_NotOkStatusException\u001b[0m \u001b[1;32mas\u001b[0m \u001b[0me\u001b[0m\u001b[1;33m:\u001b[0m\u001b[1;33m\u001b[0m\u001b[1;33m\u001b[0m\u001b[0m\n",
      "\u001b[1;31mInvalidArgumentError\u001b[0m: Graph execution error:\n\nDetected at node 'gradient_tape/mean_squared_error/BroadcastGradientArgs' defined at (most recent call last):\n    File \"c:\\Users\\joelv\\AppData\\Local\\Programs\\Python\\Python39\\lib\\runpy.py\", line 197, in _run_module_as_main\n      return _run_code(code, main_globals, None,\n    File \"c:\\Users\\joelv\\AppData\\Local\\Programs\\Python\\Python39\\lib\\runpy.py\", line 87, in _run_code\n      exec(code, run_globals)\n    File \"c:\\Users\\joelv\\AppData\\Local\\Programs\\Python\\Python39\\lib\\site-packages\\ipykernel_launcher.py\", line 16, in <module>\n      app.launch_new_instance()\n    File \"c:\\Users\\joelv\\AppData\\Local\\Programs\\Python\\Python39\\lib\\site-packages\\traitlets\\config\\application.py\", line 1043, in launch_instance\n      app.start()\n    File \"c:\\Users\\joelv\\AppData\\Local\\Programs\\Python\\Python39\\lib\\site-packages\\ipykernel\\kernelapp.py\", line 677, in start\n      self.io_loop.start()\n    File \"c:\\Users\\joelv\\AppData\\Local\\Programs\\Python\\Python39\\lib\\site-packages\\tornado\\platform\\asyncio.py\", line 215, in start\n      self.asyncio_loop.run_forever()\n    File \"c:\\Users\\joelv\\AppData\\Local\\Programs\\Python\\Python39\\lib\\asyncio\\base_events.py\", line 596, in run_forever\n      self._run_once()\n    File \"c:\\Users\\joelv\\AppData\\Local\\Programs\\Python\\Python39\\lib\\asyncio\\base_events.py\", line 1890, in _run_once\n      handle._run()\n    File \"c:\\Users\\joelv\\AppData\\Local\\Programs\\Python\\Python39\\lib\\asyncio\\events.py\", line 80, in _run\n      self._context.run(self._callback, *self._args)\n    File \"c:\\Users\\joelv\\AppData\\Local\\Programs\\Python\\Python39\\lib\\site-packages\\ipykernel\\kernelbase.py\", line 457, in dispatch_queue\n      await self.process_one()\n    File \"c:\\Users\\joelv\\AppData\\Local\\Programs\\Python\\Python39\\lib\\site-packages\\ipykernel\\kernelbase.py\", line 446, in process_one\n      await dispatch(*args)\n    File \"c:\\Users\\joelv\\AppData\\Local\\Programs\\Python\\Python39\\lib\\site-packages\\ipykernel\\kernelbase.py\", line 353, in dispatch_shell\n      await result\n    File \"c:\\Users\\joelv\\AppData\\Local\\Programs\\Python\\Python39\\lib\\site-packages\\ipykernel\\kernelbase.py\", line 648, in execute_request\n      reply_content = await reply_content\n    File \"c:\\Users\\joelv\\AppData\\Local\\Programs\\Python\\Python39\\lib\\site-packages\\ipykernel\\ipkernel.py\", line 353, in do_execute\n      res = shell.run_cell(code, store_history=store_history, silent=silent)\n    File \"c:\\Users\\joelv\\AppData\\Local\\Programs\\Python\\Python39\\lib\\site-packages\\ipykernel\\zmqshell.py\", line 533, in run_cell\n      return super(ZMQInteractiveShell, self).run_cell(*args, **kwargs)\n    File \"c:\\Users\\joelv\\AppData\\Local\\Programs\\Python\\Python39\\lib\\site-packages\\IPython\\core\\interactiveshell.py\", line 2914, in run_cell\n      result = self._run_cell(\n    File \"c:\\Users\\joelv\\AppData\\Local\\Programs\\Python\\Python39\\lib\\site-packages\\IPython\\core\\interactiveshell.py\", line 2960, in _run_cell\n      return runner(coro)\n    File \"c:\\Users\\joelv\\AppData\\Local\\Programs\\Python\\Python39\\lib\\site-packages\\IPython\\core\\async_helpers.py\", line 78, in _pseudo_sync_runner\n      coro.send(None)\n    File \"c:\\Users\\joelv\\AppData\\Local\\Programs\\Python\\Python39\\lib\\site-packages\\IPython\\core\\interactiveshell.py\", line 3185, in run_cell_async\n      has_raised = await self.run_ast_nodes(code_ast.body, cell_name,\n    File \"c:\\Users\\joelv\\AppData\\Local\\Programs\\Python\\Python39\\lib\\site-packages\\IPython\\core\\interactiveshell.py\", line 3377, in run_ast_nodes\n      if (await self.run_code(code, result,  async_=asy)):\n    File \"c:\\Users\\joelv\\AppData\\Local\\Programs\\Python\\Python39\\lib\\site-packages\\IPython\\core\\interactiveshell.py\", line 3457, in run_code\n      exec(code_obj, self.user_global_ns, self.user_ns)\n    File \"C:\\Users\\joelv\\AppData\\Local\\Temp/ipykernel_16772/3654335977.py\", line 22, in <module>\n      lstm_model.fit(X_train, Y_train,batch_size=batch_size, epochs=4, verbose=1,validation_data=(X_test, Y_test*1.0))\n    File \"c:\\Users\\joelv\\AppData\\Local\\Programs\\Python\\Python39\\lib\\site-packages\\keras\\utils\\traceback_utils.py\", line 65, in error_handler\n      return fn(*args, **kwargs)\n    File \"c:\\Users\\joelv\\AppData\\Local\\Programs\\Python\\Python39\\lib\\site-packages\\keras\\engine\\training.py\", line 1685, in fit\n      tmp_logs = self.train_function(iterator)\n    File \"c:\\Users\\joelv\\AppData\\Local\\Programs\\Python\\Python39\\lib\\site-packages\\keras\\engine\\training.py\", line 1284, in train_function\n      return step_function(self, iterator)\n    File \"c:\\Users\\joelv\\AppData\\Local\\Programs\\Python\\Python39\\lib\\site-packages\\keras\\engine\\training.py\", line 1268, in step_function\n      outputs = model.distribute_strategy.run(run_step, args=(data,))\n    File \"c:\\Users\\joelv\\AppData\\Local\\Programs\\Python\\Python39\\lib\\site-packages\\keras\\engine\\training.py\", line 1249, in run_step\n      outputs = model.train_step(data)\n    File \"c:\\Users\\joelv\\AppData\\Local\\Programs\\Python\\Python39\\lib\\site-packages\\keras\\engine\\training.py\", line 1054, in train_step\n      self.optimizer.minimize(loss, self.trainable_variables, tape=tape)\n    File \"c:\\Users\\joelv\\AppData\\Local\\Programs\\Python\\Python39\\lib\\site-packages\\keras\\optimizers\\optimizer.py\", line 542, in minimize\n      grads_and_vars = self.compute_gradients(loss, var_list, tape)\n    File \"c:\\Users\\joelv\\AppData\\Local\\Programs\\Python\\Python39\\lib\\site-packages\\keras\\optimizers\\optimizer.py\", line 275, in compute_gradients\n      grads = tape.gradient(loss, var_list)\nNode: 'gradient_tape/mean_squared_error/BroadcastGradientArgs'\nIncompatible shapes: [32,6,28] vs. [32]\n\t [[{{node gradient_tape/mean_squared_error/BroadcastGradientArgs}}]] [Op:__inference_train_function_5649]"
     ]
    }
   ],
   "source": [
    "hiddensizes = [15,20, 30, 40]\n",
    "dropouts = [0,0.8,0.15,0.2]\n",
    "batch_sizes = [32,64,128]\n",
    "optimizers = ['rmsprop', 'adam']\n",
    "for dropout in dropouts:\n",
    "    for batch_size in batch_sizes:\n",
    "        for optimizer in optimizers:\n",
    "            for hidden in hiddensizes:\n",
    "                print('dropout:' + str(dropout) + '\\t' + 'batchsize:' + str(batch_size) + '\\t' + 'optimzer:' + str(optimizer)  + '\\t' + 'Hidden_U:' + str(hidden))\n",
    "\n",
    "                lstm_model = Sequential()\n",
    "                #hiddensize1 = X.shape[2]\n",
    "\n",
    "                lstm_model.add(LSTM(units = hidden, dropout=dropout, return_sequences = True, input_shape = (time_steps, n_features)))\n",
    "                lstm_model.add(LSTM(units = hidden, dropout=dropout, return_sequences = True))\n",
    "                #lstm_model.add(LSTM(units = hiddensize1, dropout=0.2, return_sequences = True))\n",
    "\n",
    "                lstm_model.add(Dense(n_features))\n",
    "                #weights = np.array([0.005,0.24,0.75,0.005])\n",
    "                #weights = np.ones((4,))*1.0\n",
    "                lstm_model.compile(optimizer = optimizer, loss = 'mse', metrics = ['categorical_accuracy'])\n",
    "                lstm_model.fit(X_train, Y_train,batch_size=batch_size, epochs=4, verbose=1,validation_data=(X_test, Y_test*1.0))"
   ]
  },
  {
   "cell_type": "code",
   "execution_count": 38,
   "metadata": {},
   "outputs": [],
   "source": [
    "def check_accuracy(Y_test,y_pred):\n",
    "    from sklearn.metrics import r2_score,accuracy_score\n",
    "    \n",
    "    print(r2_score(y_pred,Y_test))\n",
    "    #print(metrics.confusion_matrixY, predictTrain)"
   ]
  },
  {
   "cell_type": "code",
   "execution_count": 45,
   "metadata": {},
   "outputs": [
    {
     "name": "stdout",
     "output_type": "stream",
     "text": [
      "Hidden size50\n",
      "7853/7853 [==============================] - 21s 3ms/step\n",
      "0.9243973713194749\n"
     ]
    }
   ],
   "source": [
    "hiddensizes = [50]\n",
    "for hidden in hiddensizes:\n",
    "    print('Hidden size'+str(hidden))\n",
    "    model = Sequential()\n",
    "    model.add(LSTM(hidden, activation='relu', return_sequences=True, input_shape=(time_steps,n_features)))\n",
    "    model.add(LSTM(hidden, activation='relu'))\n",
    "    model.add(Dense(1))\n",
    "    model.compile(optimizer='adam', loss='mse',metrics = ['categorical_accuracy'])\n",
    "    # fit model\n",
    "    model.fit(X_train, Y_train, epochs=5, verbose=0)\n",
    "    y_pred=model.predict(X_test)\n",
    "    \n",
    "    check_accuracy(Y_test,y_pred)\n",
    "    "
   ]
  },
  {
   "cell_type": "code",
   "execution_count": 28,
   "metadata": {},
   "outputs": [],
   "source": [
    "model.save('model.h5')"
   ]
  },
  {
   "cell_type": "code",
   "execution_count": 42,
   "metadata": {},
   "outputs": [
    {
     "name": "stdout",
     "output_type": "stream",
     "text": [
      "Hidden size50\n",
      "7853/7853 [==============================] - 21s 3ms/step\n",
      "0.9106293077364984\n"
     ]
    }
   ],
   "source": [
    "hidden=50\n",
    "print('Hidden size'+str(hidden))\n",
    "model = Sequential()\n",
    "model.add(LSTM(hidden, activation='relu', return_sequences=True, input_shape=(time_steps,n_features)))\n",
    "model.add(LSTM(hidden, activation='relu'))\n",
    "model.add(Dense(1))\n",
    "model.compile(optimizer='adam', loss='mse',metrics = ['categorical_accuracy'])\n",
    "    # fit model\n",
    "model.fit(X_train, Y_train,batch_size=64, epochs=5, verbose=0)\n",
    "y_pred=model.predict(X_test)\n",
    "check_accuracy(Y_test,y_pred)\n",
    "    "
   ]
  },
  {
   "cell_type": "code",
   "execution_count": 46,
   "metadata": {},
   "outputs": [
    {
     "data": {
      "text/plain": [
       "array([214581.22, 214226.92, 213871.41, ..., 499853.61, 498960.1 ,\n",
       "       498064.31])"
      ]
     },
     "execution_count": 46,
     "metadata": {},
     "output_type": "execute_result"
    }
   ],
   "source": [
    "Y_test"
   ]
  },
  {
   "cell_type": "code",
   "execution_count": 47,
   "metadata": {},
   "outputs": [
    {
     "data": {
      "text/plain": [
       "array([[217187.48],\n",
       "       [215904.12],\n",
       "       [214805.56],\n",
       "       ...,\n",
       "       [494488.1 ],\n",
       "       [494143.84],\n",
       "       [494731.62]], dtype=float32)"
      ]
     },
     "execution_count": 47,
     "metadata": {},
     "output_type": "execute_result"
    }
   ],
   "source": [
    "y_pred"
   ]
  }
 ],
 "metadata": {
  "kernelspec": {
   "display_name": "Python 3",
   "language": "python",
   "name": "python3"
  },
  "language_info": {
   "codemirror_mode": {
    "name": "ipython",
    "version": 3
   },
   "file_extension": ".py",
   "mimetype": "text/x-python",
   "name": "python",
   "nbconvert_exporter": "python",
   "pygments_lexer": "ipython3",
   "version": "3.9.4"
  },
  "orig_nbformat": 4
 },
 "nbformat": 4,
 "nbformat_minor": 2
}
