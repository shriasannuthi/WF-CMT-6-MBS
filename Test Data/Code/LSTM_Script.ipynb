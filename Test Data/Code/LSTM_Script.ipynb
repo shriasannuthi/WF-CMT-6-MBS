{
 "cells": [
  {
   "cell_type": "code",
   "execution_count": 11,
   "metadata": {},
   "outputs": [
    {
     "name": "stderr",
     "output_type": "stream",
     "text": [
      "C:\\Users\\976sh\\AppData\\Local\\Temp\\ipykernel_15612\\3825451047.py:4: DtypeWarning: Columns (2,4,10,14,15,16,18,21,22,23,24,25,26,27) have mixed types. Specify dtype option on import or set low_memory=False.\n",
      "  df = pd.read_csv('D:/11)WF P/Data/SVM/Test Data/Code/ds2.csv')\n"
     ]
    }
   ],
   "source": [
    "#LSTM requires data from the window where the loans is first paid(i.e. removing the first few entries when no payment occurs) and 7/9 entries depending on window size from this reduced data.\n",
    "import pandas as pd\n",
    "\n",
    "# Read input CSV file\n",
    "df = pd.read_csv('D:/11)WF P/Data/SVM/Test Data/Code/ds2.csv')\n",
    "\n",
    "# Remove rows where UPB_diff is equal to 0\n",
    "df = df[df['UPB_diff'] != 0]\n",
    "\n",
    "# Group the DataFrame by Loan Identifier\n",
    "grouped_df = df.groupby('Loan Identifier')\n",
    "\n",
    "# Initialize an empty DataFrame to store the selected rows\n",
    "selected_rows = pd.DataFrame()\n",
    "\n",
    "# Iterate over each group\n",
    "for _, group in grouped_df:\n",
    "    # Select the top 7 rows for each Loan Identifier\n",
    "    selected_rows = pd.concat([selected_rows, group.head(7)])\n",
    "\n",
    "# Reset the index of the selected rows\n",
    "selected_rows.reset_index(drop=True, inplace=True)\n",
    "\n",
    "# Save the selected rows to a new CSV file\n",
    "selected_rows.to_csv('selected_dataset.csv', index=False)\n",
    "\n"
   ]
  },
  {
   "cell_type": "code",
   "execution_count": 3,
   "metadata": {},
   "outputs": [],
   "source": [
    "import pandas as pd\n",
    "\n",
    "input_file = 'output.csv'  # Path to the input file\n",
    "output_file = 'first_rows.csv'  # Path to the output file\n",
    "\n",
    "# Read the input CSV file into a DataFrame\n",
    "df = pd.read_csv(input_file)\n",
    "\n",
    "# Initialize an empty DataFrame to store the first rows\n",
    "first_rows_df = pd.DataFrame(columns=df.columns)\n",
    "\n",
    "# Iterate over each Loan Identifier\n",
    "for loan_id in df['Loan Identifier'].unique():\n",
    "    # Select the first row for the current Loan Identifier and append it to the first_rows DataFrame\n",
    "    first_row = df.loc[df['Loan Identifier'] == loan_id].iloc[0]\n",
    "    first_rows_df = pd.concat([first_rows_df, first_row.to_frame().transpose()], ignore_index=True)\n",
    "\n",
    "# Save the first rows DataFrame to the output CSV file\n",
    "first_rows_df.to_csv(output_file, index=False)\n"
   ]
  },
  {
   "cell_type": "code",
   "execution_count": 4,
   "metadata": {},
   "outputs": [],
   "source": [
    "import pandas as pd\n",
    "\n",
    "input_file = 'filtered.csv'  # Path to the input file\n",
    "output_file = 'top_4_entries-new.csv'  # Path to the output file\n",
    "entries_per_loan_id = 4  # Number of entries to select per Loan Identifier\n",
    "\n",
    "# Read the input CSV file into a DataFrame\n",
    "df = pd.read_csv(input_file)\n",
    "\n",
    "# Group the DataFrame by 'Loan Identifier' and select the top entries for each group\n",
    "top_entries_df = df.groupby('Loan Identifier').head(entries_per_loan_id)\n",
    "\n",
    "# Save the top entries DataFrame to the output CSV file\n",
    "top_entries_df.to_csv(output_file, index=False)\n"
   ]
  }
 ],
 "metadata": {
  "kernelspec": {
   "display_name": "Python 3",
   "language": "python",
   "name": "python3"
  },
  "language_info": {
   "codemirror_mode": {
    "name": "ipython",
    "version": 3
   },
   "file_extension": ".py",
   "mimetype": "text/x-python",
   "name": "python",
   "nbconvert_exporter": "python",
   "pygments_lexer": "ipython3",
   "version": "3.10.6"
  },
  "orig_nbformat": 4
 },
 "nbformat": 4,
 "nbformat_minor": 2
}
