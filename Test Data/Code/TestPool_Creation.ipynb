{
 "cells": [
  {
   "cell_type": "code",
   "execution_count": 1,
   "metadata": {},
   "outputs": [],
   "source": [
    "import pandas as pd\n",
    "import random"
   ]
  },
  {
   "cell_type": "code",
   "execution_count": 2,
   "metadata": {},
   "outputs": [],
   "source": [
    "def divide_file(input_file, output_prefix, num_files):\n",
    "    df = pd.read_csv(input_file)\n",
    "\n",
    "    grouped = df.groupby('Loan Identifier')\n",
    "    loan_identifiers = list(grouped.groups.keys())\n",
    "    random.shuffle(loan_identifiers)\n",
    "\n",
    "    loan_ids_per_file = len(loan_identifiers) // num_files\n",
    "\n",
    "    for i in range(num_files):\n",
    "        start_index = i * loan_ids_per_file\n",
    "        end_index = (i + 1) * loan_ids_per_file if i != num_files - 1 else None\n",
    "        selected_loan_ids = loan_identifiers[start_index:end_index]\n",
    "\n",
    "        output_df = pd.concat([grouped.get_group(loan_id) for loan_id in selected_loan_ids])\n",
    "        output_df.to_csv(f\"{output_prefix}_{i}.csv\", index=False)"
   ]
  },
  {
   "cell_type": "code",
   "execution_count": 3,
   "metadata": {},
   "outputs": [],
   "source": [
    "divide_file('D:/11)WF P/Data/SVM/ds2.csv','Pool', 5)"
   ]
  },
  {
   "cell_type": "code",
   "execution_count": null,
   "metadata": {},
   "outputs": [],
   "source": [
    "def process_loan_data(input_file, output_file):\n",
    "    df = pd.read_csv(input_file) \n",
    "    grouped = df.groupby(df.columns[0]).head(7)\n",
    "    grouped.to_csv(output_file, index=False)\n",
    "    "
   ]
  },
  {
   "cell_type": "code",
   "execution_count": null,
   "metadata": {},
   "outputs": [],
   "source": [
    "for i in range(5):\n",
    "    input_file = f\"D:/11)WF P/Data/SVM/Pool_{i}.csv\"\n",
    "    output_file = f\"TestPool_{i}.csv\"\n",
    "    process_loan_data(input_file, output_file)"
   ]
  }
 ],
 "metadata": {
  "kernelspec": {
   "display_name": "Python 3",
   "language": "python",
   "name": "python3"
  },
  "language_info": {
   "codemirror_mode": {
    "name": "ipython",
    "version": 3
   },
   "file_extension": ".py",
   "mimetype": "text/x-python",
   "name": "python",
   "nbconvert_exporter": "python",
   "pygments_lexer": "ipython3",
   "version": "3.10.6"
  },
  "orig_nbformat": 4
 },
 "nbformat": 4,
 "nbformat_minor": 2
}
