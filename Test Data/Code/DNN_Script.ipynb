{
 "cells": [
  {
   "cell_type": "code",
   "execution_count": 14,
   "metadata": {},
   "outputs": [
    {
     "name": "stderr",
     "output_type": "stream",
     "text": [
      "C:\\Users\\976sh\\AppData\\Local\\Temp\\ipykernel_20212\\1399434992.py:15: UserWarning: Boolean Series key will be reindexed to match DataFrame index.\n",
      "  filtered_df = df[mask]\n"
     ]
    }
   ],
   "source": [
    "#DNN requires two files for testing, One containg the first row for each loan Identifier and second one with all 8 enteries to cross verify the forecast\n",
    "import pandas as pd\n",
    "\n",
    "input_file = 'D:/11)WF P/Data/SVM/Test Data/Code/Dataset.csv'  \n",
    "output_file_1 = 'top_8_entries_loan_identifiers.csv'  # Path to the output file for the top 8 entries\n",
    "output_file_2='first_entry.csv'\n",
    "\n",
    "# Read the input CSV file into a DataFrame\n",
    "df = pd.read_csv(input_file)\n",
    "\n",
    "# Create a mask to identify the rows to keep\n",
    "mask = df.groupby('Loan Identifier').apply(lambda group: group['Original UPB'] != group['Current Actual UPB']).reset_index(level=0, drop=True)\n",
    "\n",
    "# Apply the mask to filter the rows\n",
    "filtered_df = df[mask]\n",
    "\n",
    "\n",
    "# Group the data by Loan Identifier and filter out loans with less than 8 entries\n",
    "new_df = filtered_df.groupby('Loan Identifier').filter(lambda x: len(x) >= 8)\n",
    "\n",
    "# Select the top 8 entries for each loan identifier\n",
    "top_8_entries_df = new_df.groupby('Loan Identifier').head(8)\n",
    "first_entry_entries_df=top_8_entries_df.groupby('Loan Identifier').head(1)\n",
    "\n",
    "# Save the top 8 entries DataFrame to the output CSV file\n",
    "top_8_entries_df.to_csv(output_file_1, index=False)\n",
    "first_entry_entries_df.to_csv(output_file_2, index=False)\n"
   ]
  }
 ],
 "metadata": {
  "kernelspec": {
   "display_name": "Python 3",
   "language": "python",
   "name": "python3"
  },
  "language_info": {
   "codemirror_mode": {
    "name": "ipython",
    "version": 3
   },
   "file_extension": ".py",
   "mimetype": "text/x-python",
   "name": "python",
   "nbconvert_exporter": "python",
   "pygments_lexer": "ipython3",
   "version": "3.10.6"
  },
  "orig_nbformat": 4
 },
 "nbformat": 4,
 "nbformat_minor": 2
}
